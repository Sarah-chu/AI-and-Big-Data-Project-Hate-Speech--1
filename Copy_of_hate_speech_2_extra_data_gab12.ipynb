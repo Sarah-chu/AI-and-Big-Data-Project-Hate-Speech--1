{
 "cells": [
  {
   "cell_type": "code",
   "execution_count": 120,
   "metadata": {
    "colab": {
     "base_uri": "https://localhost:8080/"
    },
    "id": "E0dwO9-clWJm",
    "outputId": "2f60b99f-1496-4202-9050-d2e97e527497"
   },
   "outputs": [],
   "source": [
    "import pandas as pd\n",
    "import numpy as np\n",
    "import re\n",
    "import nltk\n",
    "import seaborn as sns\n",
    "import matplotlib.pyplot as plt\n",
    "from nltk.probability import FreqDist\n",
    "from nltk.stem import WordNetLemmatizer\n",
    "from sklearn.feature_extraction.text import CountVectorizer\n",
    "from sklearn.feature_extraction.text import TfidfVectorizer\n",
    "from sklearn.linear_model import LogisticRegression\n",
    "from sklearn.ensemble import RandomForestClassifier\n",
    "from sklearn.naive_bayes import MultinomialNB\n",
    "from sklearn.model_selection import train_test_split, GridSearchCV\n",
    "from nltk.tokenize import RegexpTokenizer\n",
    "from nltk.corpus import stopwords\n",
    "from sklearn.metrics import accuracy_score, precision_score, recall_score, f1_score, make_scorer, confusion_matrix, plot_confusion_matrix, roc_curve, auc, classification_report\n",
    "from sklearn import svm\n",
    "from imblearn.over_sampling import SMOTE\n",
    "\n",
    "\n",
    "\n",
    "import warnings\n",
    "warnings.filterwarnings(\"ignore\")"
   ]
  },
  {
   "cell_type": "code",
   "execution_count": 2,
   "metadata": {
    "colab": {
     "base_uri": "https://localhost:8080/"
    },
    "id": "dw2SHX26lWKL",
    "outputId": "ac0335d0-03c7-4c59-f473-c118a9e2eebf"
   },
   "outputs": [
    {
     "name": "stderr",
     "output_type": "stream",
     "text": [
      "[nltk_data] Downloading package stopwords to\n",
      "[nltk_data]     /Users/sylvie/nltk_data...\n",
      "[nltk_data]   Package stopwords is already up-to-date!\n",
      "[nltk_data] Downloading package punkt to /Users/sylvie/nltk_data...\n",
      "[nltk_data]   Package punkt is already up-to-date!\n",
      "[nltk_data] Downloading package wordnet to /Users/sylvie/nltk_data...\n",
      "[nltk_data]   Package wordnet is already up-to-date!\n"
     ]
    },
    {
     "data": {
      "text/plain": [
       "True"
      ]
     },
     "execution_count": 2,
     "metadata": {},
     "output_type": "execute_result"
    }
   ],
   "source": [
    "nltk.download('stopwords')\n",
    "nltk.download('punkt')\n",
    "nltk.download('wordnet')"
   ]
  },
  {
   "cell_type": "code",
   "execution_count": null,
   "metadata": {
    "colab": {
     "base_uri": "https://localhost:8080/"
    },
    "id": "SceD8E0jlykG",
    "outputId": "2c72c7cf-2a7b-4955-805a-f0e3229138d9"
   },
   "outputs": [
    {
     "name": "stdout",
     "output_type": "stream",
     "text": [
      "Mounted at /gdrive\n"
     ]
    }
   ],
   "source": [
    "from google.colab import drive\n",
    "drive.mount('/gdrive')"
   ]
  },
  {
   "cell_type": "code",
   "execution_count": 3,
   "metadata": {
    "id": "jA_J3Td9lWKR"
   },
   "outputs": [],
   "source": [
    "# Import data\n",
    "data = pd.read_csv('Dataset1_labeled_data.csv')"
   ]
  },
  {
   "cell_type": "code",
   "execution_count": 4,
   "metadata": {
    "id": "jFYkpK48lWKS"
   },
   "outputs": [],
   "source": [
    "df1 = pd.read_csv('twitter_hate_speench_cleaned.csv')"
   ]
  },
  {
   "cell_type": "code",
   "execution_count": 5,
   "metadata": {
    "id": "OOZlM_H6XGLD"
   },
   "outputs": [],
   "source": [
    "gab = pd.read_csv('gab.csv')"
   ]
  },
  {
   "cell_type": "code",
   "execution_count": 10,
   "metadata": {
    "colab": {
     "base_uri": "https://localhost:8080/",
     "height": 204
    },
    "id": "3rf-Gc03lWKT",
    "outputId": "77b52277-de86-4040-cdae-7a5fe8edcc90"
   },
   "outputs": [
    {
     "data": {
      "text/html": [
       "<div>\n",
       "<style scoped>\n",
       "    .dataframe tbody tr th:only-of-type {\n",
       "        vertical-align: middle;\n",
       "    }\n",
       "\n",
       "    .dataframe tbody tr th {\n",
       "        vertical-align: top;\n",
       "    }\n",
       "\n",
       "    .dataframe thead th {\n",
       "        text-align: right;\n",
       "    }\n",
       "</style>\n",
       "<table border=\"1\" class=\"dataframe\">\n",
       "  <thead>\n",
       "    <tr style=\"text-align: right;\">\n",
       "      <th></th>\n",
       "      <th>Unnamed: 0</th>\n",
       "      <th>count</th>\n",
       "      <th>hate_speech</th>\n",
       "      <th>offensive_language</th>\n",
       "      <th>neither</th>\n",
       "      <th>class</th>\n",
       "      <th>tweet</th>\n",
       "    </tr>\n",
       "  </thead>\n",
       "  <tbody>\n",
       "    <tr>\n",
       "      <th>0</th>\n",
       "      <td>0</td>\n",
       "      <td>3</td>\n",
       "      <td>0</td>\n",
       "      <td>0</td>\n",
       "      <td>3</td>\n",
       "      <td>2</td>\n",
       "      <td>!!! RT @mayasolovely: As a woman you shouldn't...</td>\n",
       "    </tr>\n",
       "    <tr>\n",
       "      <th>1</th>\n",
       "      <td>1</td>\n",
       "      <td>3</td>\n",
       "      <td>0</td>\n",
       "      <td>3</td>\n",
       "      <td>0</td>\n",
       "      <td>1</td>\n",
       "      <td>!!!!! RT @mleew17: boy dats cold...tyga dwn ba...</td>\n",
       "    </tr>\n",
       "    <tr>\n",
       "      <th>2</th>\n",
       "      <td>2</td>\n",
       "      <td>3</td>\n",
       "      <td>0</td>\n",
       "      <td>3</td>\n",
       "      <td>0</td>\n",
       "      <td>1</td>\n",
       "      <td>!!!!!!! RT @UrKindOfBrand Dawg!!!! RT @80sbaby...</td>\n",
       "    </tr>\n",
       "    <tr>\n",
       "      <th>3</th>\n",
       "      <td>3</td>\n",
       "      <td>3</td>\n",
       "      <td>0</td>\n",
       "      <td>2</td>\n",
       "      <td>1</td>\n",
       "      <td>1</td>\n",
       "      <td>!!!!!!!!! RT @C_G_Anderson: @viva_based she lo...</td>\n",
       "    </tr>\n",
       "    <tr>\n",
       "      <th>4</th>\n",
       "      <td>4</td>\n",
       "      <td>6</td>\n",
       "      <td>0</td>\n",
       "      <td>6</td>\n",
       "      <td>0</td>\n",
       "      <td>1</td>\n",
       "      <td>!!!!!!!!!!!!! RT @ShenikaRoberts: The shit you...</td>\n",
       "    </tr>\n",
       "  </tbody>\n",
       "</table>\n",
       "</div>"
      ],
      "text/plain": [
       "   Unnamed: 0  count  hate_speech  offensive_language  neither  class  \\\n",
       "0           0      3            0                   0        3      2   \n",
       "1           1      3            0                   3        0      1   \n",
       "2           2      3            0                   3        0      1   \n",
       "3           3      3            0                   2        1      1   \n",
       "4           4      6            0                   6        0      1   \n",
       "\n",
       "                                               tweet  \n",
       "0  !!! RT @mayasolovely: As a woman you shouldn't...  \n",
       "1  !!!!! RT @mleew17: boy dats cold...tyga dwn ba...  \n",
       "2  !!!!!!! RT @UrKindOfBrand Dawg!!!! RT @80sbaby...  \n",
       "3  !!!!!!!!! RT @C_G_Anderson: @viva_based she lo...  \n",
       "4  !!!!!!!!!!!!! RT @ShenikaRoberts: The shit you...  "
      ]
     },
     "execution_count": 10,
     "metadata": {},
     "output_type": "execute_result"
    }
   ],
   "source": [
    "# hate speech: 0\n",
    "# offensive language: 1\n",
    "# neither: 2\n",
    "\n",
    "data.head()"
   ]
  },
  {
   "cell_type": "code",
   "execution_count": 11,
   "metadata": {
    "colab": {
     "base_uri": "https://localhost:8080/"
    },
    "id": "mR3UGFzGlWKV",
    "outputId": "94074983-ecd5-4a37-af2b-266a53fce091"
   },
   "outputs": [
    {
     "data": {
      "text/plain": [
       "Unnamed: 0            0\n",
       "count                 0\n",
       "hate_speech           0\n",
       "offensive_language    0\n",
       "neither               0\n",
       "class                 0\n",
       "tweet                 0\n",
       "dtype: int64"
      ]
     },
     "execution_count": 11,
     "metadata": {},
     "output_type": "execute_result"
    }
   ],
   "source": [
    "# Check for NaN values:\n",
    "data.isnull().sum()"
   ]
  },
  {
   "cell_type": "code",
   "execution_count": 12,
   "metadata": {
    "colab": {
     "base_uri": "https://localhost:8080/"
    },
    "id": "rPDT7t7clWKW",
    "outputId": "2b729c9f-6b60-467e-8d29-78d756beb071",
    "scrolled": true
   },
   "outputs": [
    {
     "name": "stdout",
     "output_type": "stream",
     "text": [
      "24783 rows with 7 columns\n"
     ]
    }
   ],
   "source": [
    "# Size of dataset\n",
    "\n",
    "data.shape\n",
    "print('{} rows with {} columns'.format(data.shape[0],data.shape[1]))"
   ]
  },
  {
   "cell_type": "code",
   "execution_count": 13,
   "metadata": {
    "colab": {
     "base_uri": "https://localhost:8080/"
    },
    "id": "dlMZjWaPlWKY",
    "outputId": "8c488025-3ad5-4e10-f84b-20d7e12da9d8"
   },
   "outputs": [
    {
     "data": {
      "text/plain": [
       "1    19190\n",
       "2     4163\n",
       "0     1430\n",
       "Name: class, dtype: int64"
      ]
     },
     "execution_count": 13,
     "metadata": {},
     "output_type": "execute_result"
    }
   ],
   "source": [
    "# Distribution of Class\n",
    "data['class'].value_counts()"
   ]
  },
  {
   "cell_type": "code",
   "execution_count": 14,
   "metadata": {
    "colab": {
     "base_uri": "https://localhost:8080/"
    },
    "id": "QmUaSf3ilWKZ",
    "outputId": "ef6fd596-9d27-4ea6-be4f-c2bad59293c8",
    "scrolled": true
   },
   "outputs": [
    {
     "name": "stdout",
     "output_type": "stream",
     "text": [
      "hate speech:\n",
      "    Total: 24783\n",
      "    hate: 1430 (5.77% of total)\n",
      "\n",
      "offensive speech:\n",
      "    Total: 24783\n",
      "    Offensive: 19190 (77.43% of total)\n",
      "\n",
      "neither:\n",
      "    Total: 24783\n",
      "    Neither: 4163 (16.80% of total)\n",
      "\n"
     ]
    }
   ],
   "source": [
    "hate, offensive, neither = np.bincount(data['class'])\n",
    "total = hate + offensive + neither\n",
    "print(f'hate speech:\\n    Total: {total}\\n    hate: {hate} ({(100 * hate / total):.2f}% of total)\\n')\n",
    "print(f'offensive speech:\\n    Total: {total}\\n    Offensive: {offensive} ({(100 * offensive / total):.2f}% of total)\\n')\n",
    "print(f'neither:\\n    Total: {total}\\n    Neither: {neither} ({(100 * neither / total):.2f}% of total)\\n')"
   ]
  },
  {
   "cell_type": "markdown",
   "metadata": {
    "id": "QQUrw3G5lWKb"
   },
   "source": [
    "We have imbalanced dataset"
   ]
  },
  {
   "cell_type": "code",
   "execution_count": 6,
   "metadata": {
    "colab": {
     "base_uri": "https://localhost:8080/",
     "height": 419
    },
    "id": "Ad1Wm9gQlWKi",
    "outputId": "1d67ac46-0c35-44c6-f00d-79b475f08e50"
   },
   "outputs": [
    {
     "data": {
      "text/html": [
       "<div>\n",
       "<style scoped>\n",
       "    .dataframe tbody tr th:only-of-type {\n",
       "        vertical-align: middle;\n",
       "    }\n",
       "\n",
       "    .dataframe tbody tr th {\n",
       "        vertical-align: top;\n",
       "    }\n",
       "\n",
       "    .dataframe thead th {\n",
       "        text-align: right;\n",
       "    }\n",
       "</style>\n",
       "<table border=\"1\" class=\"dataframe\">\n",
       "  <thead>\n",
       "    <tr style=\"text-align: right;\">\n",
       "      <th></th>\n",
       "      <th>label</th>\n",
       "      <th>tweet</th>\n",
       "    </tr>\n",
       "  </thead>\n",
       "  <tbody>\n",
       "    <tr>\n",
       "      <th>0</th>\n",
       "      <td>1</td>\n",
       "      <td>@user #cnn calls #michigan middle school 'buil...</td>\n",
       "    </tr>\n",
       "    <tr>\n",
       "      <th>1</th>\n",
       "      <td>1</td>\n",
       "      <td>@user @user lumpy says i am a . prove it lumpy.</td>\n",
       "    </tr>\n",
       "    <tr>\n",
       "      <th>2</th>\n",
       "      <td>1</td>\n",
       "      <td>it's unbelievable that in the 21st century we'...</td>\n",
       "    </tr>\n",
       "    <tr>\n",
       "      <th>3</th>\n",
       "      <td>1</td>\n",
       "      <td>@user lets fight against  #love #peace</td>\n",
       "    </tr>\n",
       "    <tr>\n",
       "      <th>4</th>\n",
       "      <td>1</td>\n",
       "      <td>ð©the white establishment can't have blk fol...</td>\n",
       "    </tr>\n",
       "    <tr>\n",
       "      <th>...</th>\n",
       "      <td>...</td>\n",
       "      <td>...</td>\n",
       "    </tr>\n",
       "    <tr>\n",
       "      <th>2230</th>\n",
       "      <td>1</td>\n",
       "      <td>lady banned from kentucky mall. @user  #jcpenn...</td>\n",
       "    </tr>\n",
       "    <tr>\n",
       "      <th>2231</th>\n",
       "      <td>1</td>\n",
       "      <td>@user omfg i'm offended! i'm a  mailbox and i'...</td>\n",
       "    </tr>\n",
       "    <tr>\n",
       "      <th>2232</th>\n",
       "      <td>1</td>\n",
       "      <td>@user @user you don't have the balls to hashta...</td>\n",
       "    </tr>\n",
       "    <tr>\n",
       "      <th>2233</th>\n",
       "      <td>1</td>\n",
       "      <td>makes you ask yourself, who am i? then am i a...</td>\n",
       "    </tr>\n",
       "    <tr>\n",
       "      <th>2234</th>\n",
       "      <td>1</td>\n",
       "      <td>@user #sikh #temple vandalised in in #calgary,...</td>\n",
       "    </tr>\n",
       "  </tbody>\n",
       "</table>\n",
       "<p>2179 rows × 2 columns</p>\n",
       "</div>"
      ],
      "text/plain": [
       "      label                                              tweet\n",
       "0         1  @user #cnn calls #michigan middle school 'buil...\n",
       "1         1    @user @user lumpy says i am a . prove it lumpy.\n",
       "2         1  it's unbelievable that in the 21st century we'...\n",
       "3         1            @user lets fight against  #love #peace \n",
       "4         1  ð©the white establishment can't have blk fol...\n",
       "...     ...                                                ...\n",
       "2230      1  lady banned from kentucky mall. @user  #jcpenn...\n",
       "2231      1  @user omfg i'm offended! i'm a  mailbox and i'...\n",
       "2232      1  @user @user you don't have the balls to hashta...\n",
       "2233      1   makes you ask yourself, who am i? then am i a...\n",
       "2234      1  @user #sikh #temple vandalised in in #calgary,...\n",
       "\n",
       "[2179 rows x 2 columns]"
      ]
     },
     "execution_count": 6,
     "metadata": {},
     "output_type": "execute_result"
    }
   ],
   "source": [
    "df1 = df1[df1['label']==1][['label','tweet']]\n",
    "df1\n"
   ]
  },
  {
   "cell_type": "code",
   "execution_count": 7,
   "metadata": {
    "colab": {
     "base_uri": "https://localhost:8080/",
     "height": 419
    },
    "id": "PSuwegKeXWe_",
    "outputId": "293d76fc-b40c-410b-9454-13c72ce351ae"
   },
   "outputs": [
    {
     "data": {
      "text/html": [
       "<div>\n",
       "<style scoped>\n",
       "    .dataframe tbody tr th:only-of-type {\n",
       "        vertical-align: middle;\n",
       "    }\n",
       "\n",
       "    .dataframe tbody tr th {\n",
       "        vertical-align: top;\n",
       "    }\n",
       "\n",
       "    .dataframe thead th {\n",
       "        text-align: right;\n",
       "    }\n",
       "</style>\n",
       "<table border=\"1\" class=\"dataframe\">\n",
       "  <thead>\n",
       "    <tr style=\"text-align: right;\">\n",
       "      <th></th>\n",
       "      <th>hate_speech_idx</th>\n",
       "      <th>text</th>\n",
       "    </tr>\n",
       "  </thead>\n",
       "  <tbody>\n",
       "    <tr>\n",
       "      <th>0</th>\n",
       "      <td>[1]</td>\n",
       "      <td>1. i joined gab to remind myself how retarded ...</td>\n",
       "    </tr>\n",
       "    <tr>\n",
       "      <th>2</th>\n",
       "      <td>[2]</td>\n",
       "      <td>1. It makes you an asshole.\\n2. \\tGive it to a...</td>\n",
       "    </tr>\n",
       "    <tr>\n",
       "      <th>3</th>\n",
       "      <td>[2]</td>\n",
       "      <td>1. So they manage to provide a whole lot of da...</td>\n",
       "    </tr>\n",
       "    <tr>\n",
       "      <th>5</th>\n",
       "      <td>[1]</td>\n",
       "      <td>1. you sound like a faggot \\n</td>\n",
       "    </tr>\n",
       "    <tr>\n",
       "      <th>7</th>\n",
       "      <td>[2]</td>\n",
       "      <td>1. Well, you are the fuckers that lit the matc...</td>\n",
       "    </tr>\n",
       "    <tr>\n",
       "      <th>...</th>\n",
       "      <td>...</td>\n",
       "      <td>...</td>\n",
       "    </tr>\n",
       "    <tr>\n",
       "      <th>11818</th>\n",
       "      <td>[2]</td>\n",
       "      <td>1. A \"touching\" picture of Chelsea Handler and...</td>\n",
       "    </tr>\n",
       "    <tr>\n",
       "      <th>11819</th>\n",
       "      <td>[1]</td>\n",
       "      <td>1. Only a Demorat cocksucking pussy hating fag...</td>\n",
       "    </tr>\n",
       "    <tr>\n",
       "      <th>11820</th>\n",
       "      <td>[2]</td>\n",
       "      <td>1. Remember this 3 months ago? The intern that...</td>\n",
       "    </tr>\n",
       "    <tr>\n",
       "      <th>11821</th>\n",
       "      <td>[2]</td>\n",
       "      <td>1. #Sweden's four major dailies aftonbladet.se...</td>\n",
       "    </tr>\n",
       "    <tr>\n",
       "      <th>11824</th>\n",
       "      <td>[1]</td>\n",
       "      <td>1. How absolutely unbelievably fascinating? A ...</td>\n",
       "    </tr>\n",
       "  </tbody>\n",
       "</table>\n",
       "<p>7363 rows × 2 columns</p>\n",
       "</div>"
      ],
      "text/plain": [
       "      hate_speech_idx                                               text\n",
       "0                 [1]  1. i joined gab to remind myself how retarded ...\n",
       "2                 [2]  1. It makes you an asshole.\\n2. \\tGive it to a...\n",
       "3                 [2]  1. So they manage to provide a whole lot of da...\n",
       "5                 [1]                      1. you sound like a faggot \\n\n",
       "7                 [2]  1. Well, you are the fuckers that lit the matc...\n",
       "...               ...                                                ...\n",
       "11818             [2]  1. A \"touching\" picture of Chelsea Handler and...\n",
       "11819             [1]  1. Only a Demorat cocksucking pussy hating fag...\n",
       "11820             [2]  1. Remember this 3 months ago? The intern that...\n",
       "11821             [2]  1. #Sweden's four major dailies aftonbladet.se...\n",
       "11824             [1]  1. How absolutely unbelievably fascinating? A ...\n",
       "\n",
       "[7363 rows x 2 columns]"
      ]
     },
     "execution_count": 7,
     "metadata": {},
     "output_type": "execute_result"
    }
   ],
   "source": [
    "gab = gab[(gab['hate_speech_idx']=='[1]') | (gab['hate_speech_idx']=='[2]')][['hate_speech_idx','text']]\n",
    "gab"
   ]
  },
  {
   "cell_type": "code",
   "execution_count": 15,
   "metadata": {
    "colab": {
     "base_uri": "https://localhost:8080/"
    },
    "id": "SfNpMONGlWKy",
    "outputId": "3a08bd06-5f0d-4575-9ad8-10acf2187ccb"
   },
   "outputs": [
    {
     "data": {
      "text/plain": [
       "6484"
      ]
     },
     "execution_count": 15,
     "metadata": {},
     "output_type": "execute_result"
    }
   ],
   "source": [
    "# Make a new column to highlight retweets\n",
    "data['is_retweet'] = data['tweet'].apply(lambda x: x[:2]=='RT')\n",
    "data['is_retweet'].sum()  # number of retweets"
   ]
  },
  {
   "cell_type": "code",
   "execution_count": 16,
   "metadata": {
    "colab": {
     "base_uri": "https://localhost:8080/"
    },
    "id": "mVWQK-_JlWK1",
    "outputId": "2a0344a6-fcee-43b9-917c-7d3273aa9a4d"
   },
   "outputs": [
    {
     "data": {
      "text/plain": [
       "6484"
      ]
     },
     "execution_count": 16,
     "metadata": {},
     "output_type": "execute_result"
    }
   ],
   "source": [
    "# number of unique retweets\n",
    "data.loc[data['is_retweet']].tweet.unique().size"
   ]
  },
  {
   "cell_type": "markdown",
   "metadata": {
    "id": "N8ChKaxVlWK7"
   },
   "source": [
    "### Extracting substrings (@, #)"
   ]
  },
  {
   "cell_type": "code",
   "execution_count": 9,
   "metadata": {
    "id": "monvv8i2lWK8"
   },
   "outputs": [],
   "source": [
    "# Who is being retweeted?\n",
    "# Who is being tweeted at/mentioned?\n",
    "# What hashtags are being used?\n",
    "\n",
    "# Create functions\n",
    "\n",
    "def find_retweeted(tweet):\n",
    "    '''This function will extract the twitter handles of retweed people'''\n",
    "    return re.findall('(?<=RT\\s)(@[A-Za-z]+[A-Za-z0-9-_]+)', tweet)\n",
    "\n",
    "def find_mentioned(tweet):\n",
    "    '''This function will extract the twitter handles of people mentioned in the tweet'''\n",
    "    return re.findall('(?<!RT\\s)(@[A-Za-z]+[A-Za-z0-9-_]+)', tweet)  \n",
    "\n",
    "def find_hashtags(tweet):\n",
    "    '''This function will extract hashtags'''\n",
    "    return re.findall('(#[A-Za-z]+[A-Za-z0-9-_]+)', tweet)   "
   ]
  },
  {
   "cell_type": "code",
   "execution_count": 17,
   "metadata": {
    "id": "4NzGrIzilWK9"
   },
   "outputs": [],
   "source": [
    "# Make new columns for retweeted usernames, mentioned usernames and hashtags\n",
    "\n",
    "data['retweeted'] = data.tweet.apply(find_retweeted)\n",
    "data['mentioned'] = data.tweet.apply(find_mentioned)\n",
    "data['hashtags'] = data.tweet.apply(find_hashtags)"
   ]
  },
  {
   "cell_type": "code",
   "execution_count": 18,
   "metadata": {
    "colab": {
     "base_uri": "https://localhost:8080/"
    },
    "id": "JGKo7g-SlWK-",
    "outputId": "04e9f6df-d881-4cb1-99c8-47b2ec1c0a2a"
   },
   "outputs": [
    {
     "data": {
      "text/html": [
       "<div>\n",
       "<style scoped>\n",
       "    .dataframe tbody tr th:only-of-type {\n",
       "        vertical-align: middle;\n",
       "    }\n",
       "\n",
       "    .dataframe tbody tr th {\n",
       "        vertical-align: top;\n",
       "    }\n",
       "\n",
       "    .dataframe thead th {\n",
       "        text-align: right;\n",
       "    }\n",
       "</style>\n",
       "<table border=\"1\" class=\"dataframe\">\n",
       "  <thead>\n",
       "    <tr style=\"text-align: right;\">\n",
       "      <th></th>\n",
       "      <th>Unnamed: 0</th>\n",
       "      <th>count</th>\n",
       "      <th>hate_speech</th>\n",
       "      <th>offensive_language</th>\n",
       "      <th>neither</th>\n",
       "      <th>class</th>\n",
       "      <th>tweet</th>\n",
       "      <th>is_retweet</th>\n",
       "      <th>retweeted</th>\n",
       "      <th>mentioned</th>\n",
       "      <th>hashtags</th>\n",
       "    </tr>\n",
       "  </thead>\n",
       "  <tbody>\n",
       "    <tr>\n",
       "      <th>0</th>\n",
       "      <td>0</td>\n",
       "      <td>3</td>\n",
       "      <td>0</td>\n",
       "      <td>0</td>\n",
       "      <td>3</td>\n",
       "      <td>2</td>\n",
       "      <td>!!! RT @mayasolovely: As a woman you shouldn't...</td>\n",
       "      <td>False</td>\n",
       "      <td>[@mayasolovely]</td>\n",
       "      <td>[]</td>\n",
       "      <td>[]</td>\n",
       "    </tr>\n",
       "    <tr>\n",
       "      <th>1</th>\n",
       "      <td>1</td>\n",
       "      <td>3</td>\n",
       "      <td>0</td>\n",
       "      <td>3</td>\n",
       "      <td>0</td>\n",
       "      <td>1</td>\n",
       "      <td>!!!!! RT @mleew17: boy dats cold...tyga dwn ba...</td>\n",
       "      <td>False</td>\n",
       "      <td>[@mleew17]</td>\n",
       "      <td>[]</td>\n",
       "      <td>[]</td>\n",
       "    </tr>\n",
       "    <tr>\n",
       "      <th>2</th>\n",
       "      <td>2</td>\n",
       "      <td>3</td>\n",
       "      <td>0</td>\n",
       "      <td>3</td>\n",
       "      <td>0</td>\n",
       "      <td>1</td>\n",
       "      <td>!!!!!!! RT @UrKindOfBrand Dawg!!!! RT @80sbaby...</td>\n",
       "      <td>False</td>\n",
       "      <td>[@UrKindOfBrand]</td>\n",
       "      <td>[]</td>\n",
       "      <td>[]</td>\n",
       "    </tr>\n",
       "    <tr>\n",
       "      <th>3</th>\n",
       "      <td>3</td>\n",
       "      <td>3</td>\n",
       "      <td>0</td>\n",
       "      <td>2</td>\n",
       "      <td>1</td>\n",
       "      <td>1</td>\n",
       "      <td>!!!!!!!!! RT @C_G_Anderson: @viva_based she lo...</td>\n",
       "      <td>False</td>\n",
       "      <td>[@C_G_Anderson]</td>\n",
       "      <td>[@viva_based]</td>\n",
       "      <td>[]</td>\n",
       "    </tr>\n",
       "    <tr>\n",
       "      <th>4</th>\n",
       "      <td>4</td>\n",
       "      <td>6</td>\n",
       "      <td>0</td>\n",
       "      <td>6</td>\n",
       "      <td>0</td>\n",
       "      <td>1</td>\n",
       "      <td>!!!!!!!!!!!!! RT @ShenikaRoberts: The shit you...</td>\n",
       "      <td>False</td>\n",
       "      <td>[@ShenikaRoberts]</td>\n",
       "      <td>[]</td>\n",
       "      <td>[]</td>\n",
       "    </tr>\n",
       "  </tbody>\n",
       "</table>\n",
       "</div>"
      ],
      "text/plain": [
       "   Unnamed: 0  count  hate_speech  offensive_language  neither  class  \\\n",
       "0           0      3            0                   0        3      2   \n",
       "1           1      3            0                   3        0      1   \n",
       "2           2      3            0                   3        0      1   \n",
       "3           3      3            0                   2        1      1   \n",
       "4           4      6            0                   6        0      1   \n",
       "\n",
       "                                               tweet  is_retweet  \\\n",
       "0  !!! RT @mayasolovely: As a woman you shouldn't...       False   \n",
       "1  !!!!! RT @mleew17: boy dats cold...tyga dwn ba...       False   \n",
       "2  !!!!!!! RT @UrKindOfBrand Dawg!!!! RT @80sbaby...       False   \n",
       "3  !!!!!!!!! RT @C_G_Anderson: @viva_based she lo...       False   \n",
       "4  !!!!!!!!!!!!! RT @ShenikaRoberts: The shit you...       False   \n",
       "\n",
       "           retweeted      mentioned hashtags  \n",
       "0    [@mayasolovely]             []       []  \n",
       "1         [@mleew17]             []       []  \n",
       "2   [@UrKindOfBrand]             []       []  \n",
       "3    [@C_G_Anderson]  [@viva_based]       []  \n",
       "4  [@ShenikaRoberts]             []       []  "
      ]
     },
     "execution_count": 18,
     "metadata": {},
     "output_type": "execute_result"
    }
   ],
   "source": [
    "# Have a look at the new columns\n",
    "\n",
    "data.head()"
   ]
  },
  {
   "cell_type": "markdown",
   "metadata": {
    "id": "LnLz_a2ZlWK_"
   },
   "source": [
    "#### What hashtags are being used "
   ]
  },
  {
   "cell_type": "code",
   "execution_count": null,
   "metadata": {
    "colab": {
     "base_uri": "https://localhost:8080/"
    },
    "id": "3H0_AO1dlWLB",
    "outputId": "ea5b768d-27f4-4aff-bf1c-326369095f3b"
   },
   "outputs": [
    {
     "data": {
      "text/html": [
       "<div>\n",
       "<style scoped>\n",
       "    .dataframe tbody tr th:only-of-type {\n",
       "        vertical-align: middle;\n",
       "    }\n",
       "\n",
       "    .dataframe tbody tr th {\n",
       "        vertical-align: top;\n",
       "    }\n",
       "\n",
       "    .dataframe thead th {\n",
       "        text-align: right;\n",
       "    }\n",
       "</style>\n",
       "<table border=\"1\" class=\"dataframe\">\n",
       "  <thead>\n",
       "    <tr style=\"text-align: right;\">\n",
       "      <th></th>\n",
       "      <th>hashtags</th>\n",
       "    </tr>\n",
       "  </thead>\n",
       "  <tbody>\n",
       "    <tr>\n",
       "      <th>37</th>\n",
       "      <td>[#Shots]</td>\n",
       "    </tr>\n",
       "    <tr>\n",
       "      <th>41</th>\n",
       "      <td>[#SevenOne]</td>\n",
       "    </tr>\n",
       "    <tr>\n",
       "      <th>45</th>\n",
       "      <td>[#HappyHumpDay]</td>\n",
       "    </tr>\n",
       "    <tr>\n",
       "      <th>72</th>\n",
       "      <td>[#ahmesehwetness]</td>\n",
       "    </tr>\n",
       "    <tr>\n",
       "      <th>73</th>\n",
       "      <td>[#Eaglesnation, #Eagles]</td>\n",
       "    </tr>\n",
       "  </tbody>\n",
       "</table>\n",
       "</div>"
      ],
      "text/plain": [
       "                    hashtags\n",
       "37                  [#Shots]\n",
       "41               [#SevenOne]\n",
       "45           [#HappyHumpDay]\n",
       "72         [#ahmesehwetness]\n",
       "73  [#Eaglesnation, #Eagles]"
      ]
     },
     "execution_count": 19,
     "metadata": {
      "tags": []
     },
     "output_type": "execute_result"
    }
   ],
   "source": [
    "# Take the rows from the hashtag columns where there are actually hashtags\n",
    "\n",
    "hashtags_list_data = data.loc[\n",
    "                       data.hashtags.apply(\n",
    "                           lambda hashtags_list: hashtags_list !=[]\n",
    "                       ),['hashtags']]\n",
    "hashtags_list_data.head()"
   ]
  },
  {
   "cell_type": "code",
   "execution_count": null,
   "metadata": {
    "colab": {
     "base_uri": "https://localhost:8080/"
    },
    "id": "R_2HMs8ClWLD",
    "outputId": "c7729afa-560c-425b-a83e-849d767068b2"
   },
   "outputs": [
    {
     "data": {
      "text/html": [
       "<div>\n",
       "<style scoped>\n",
       "    .dataframe tbody tr th:only-of-type {\n",
       "        vertical-align: middle;\n",
       "    }\n",
       "\n",
       "    .dataframe tbody tr th {\n",
       "        vertical-align: top;\n",
       "    }\n",
       "\n",
       "    .dataframe thead th {\n",
       "        text-align: right;\n",
       "    }\n",
       "</style>\n",
       "<table border=\"1\" class=\"dataframe\">\n",
       "  <thead>\n",
       "    <tr style=\"text-align: right;\">\n",
       "      <th></th>\n",
       "      <th>hashtag</th>\n",
       "    </tr>\n",
       "  </thead>\n",
       "  <tbody>\n",
       "    <tr>\n",
       "      <th>0</th>\n",
       "      <td>#Shots</td>\n",
       "    </tr>\n",
       "    <tr>\n",
       "      <th>1</th>\n",
       "      <td>#SevenOne</td>\n",
       "    </tr>\n",
       "    <tr>\n",
       "      <th>2</th>\n",
       "      <td>#HappyHumpDay</td>\n",
       "    </tr>\n",
       "    <tr>\n",
       "      <th>3</th>\n",
       "      <td>#ahmesehwetness</td>\n",
       "    </tr>\n",
       "    <tr>\n",
       "      <th>4</th>\n",
       "      <td>#Eaglesnation</td>\n",
       "    </tr>\n",
       "  </tbody>\n",
       "</table>\n",
       "</div>"
      ],
      "text/plain": [
       "           hashtag\n",
       "0           #Shots\n",
       "1        #SevenOne\n",
       "2    #HappyHumpDay\n",
       "3  #ahmesehwetness\n",
       "4    #Eaglesnation"
      ]
     },
     "execution_count": 20,
     "metadata": {
      "tags": []
     },
     "output_type": "execute_result"
    }
   ],
   "source": [
    "# Create dataframe where each use of hashtag gets its own row\n",
    "\n",
    "flattened_hashtags_data = pd.DataFrame(\n",
    "    [hashtag for hashtags_list in hashtags_list_data.hashtags\n",
    "    for hashtag in hashtags_list],\n",
    "    columns=['hashtag'])\n",
    "flattened_hashtags_data.head()"
   ]
  },
  {
   "cell_type": "code",
   "execution_count": null,
   "metadata": {
    "colab": {
     "base_uri": "https://localhost:8080/"
    },
    "id": "cS1NgXG6lWLF",
    "outputId": "dd841729-21ec-43e0-b9cb-871bf2310e47"
   },
   "outputs": [
    {
     "data": {
      "text/plain": [
       "(3490, 1)"
      ]
     },
     "execution_count": 21,
     "metadata": {
      "tags": []
     },
     "output_type": "execute_result"
    }
   ],
   "source": [
    "flattened_hashtags_data.shape"
   ]
  },
  {
   "cell_type": "code",
   "execution_count": null,
   "metadata": {
    "colab": {
     "base_uri": "https://localhost:8080/"
    },
    "id": "NMwgoMfplWLG",
    "outputId": "1dbecc68-a3ad-43b4-f9fa-0a6a9e5a5c36"
   },
   "outputs": [
    {
     "data": {
      "text/plain": [
       "2251"
      ]
     },
     "execution_count": 22,
     "metadata": {
      "tags": []
     },
     "output_type": "execute_result"
    }
   ],
   "source": [
    "# Number of unique hashtags\n",
    "\n",
    "flattened_hashtags_data['hashtag'].unique().size"
   ]
  },
  {
   "cell_type": "code",
   "execution_count": null,
   "metadata": {
    "colab": {
     "base_uri": "https://localhost:8080/"
    },
    "id": "yD0FZqr5lWLH",
    "outputId": "60ba74b3-e855-43be-eadf-ddbf5122df6c"
   },
   "outputs": [
    {
     "data": {
      "text/html": [
       "<div>\n",
       "<style scoped>\n",
       "    .dataframe tbody tr th:only-of-type {\n",
       "        vertical-align: middle;\n",
       "    }\n",
       "\n",
       "    .dataframe tbody tr th {\n",
       "        vertical-align: top;\n",
       "    }\n",
       "\n",
       "    .dataframe thead th {\n",
       "        text-align: right;\n",
       "    }\n",
       "</style>\n",
       "<table border=\"1\" class=\"dataframe\">\n",
       "  <thead>\n",
       "    <tr style=\"text-align: right;\">\n",
       "      <th></th>\n",
       "      <th>hashtag</th>\n",
       "      <th>counts</th>\n",
       "    </tr>\n",
       "  </thead>\n",
       "  <tbody>\n",
       "    <tr>\n",
       "      <th>0</th>\n",
       "      <td>#Yankees</td>\n",
       "      <td>94</td>\n",
       "    </tr>\n",
       "    <tr>\n",
       "      <th>1</th>\n",
       "      <td>#iphone</td>\n",
       "      <td>50</td>\n",
       "    </tr>\n",
       "    <tr>\n",
       "      <th>2</th>\n",
       "      <td>#ipad</td>\n",
       "      <td>48</td>\n",
       "    </tr>\n",
       "    <tr>\n",
       "      <th>3</th>\n",
       "      <td>#sex</td>\n",
       "      <td>48</td>\n",
       "    </tr>\n",
       "    <tr>\n",
       "      <th>4</th>\n",
       "      <td>#android</td>\n",
       "      <td>48</td>\n",
       "    </tr>\n",
       "    <tr>\n",
       "      <th>5</th>\n",
       "      <td>#porn</td>\n",
       "      <td>48</td>\n",
       "    </tr>\n",
       "    <tr>\n",
       "      <th>6</th>\n",
       "      <td>#xxx</td>\n",
       "      <td>48</td>\n",
       "    </tr>\n",
       "    <tr>\n",
       "      <th>7</th>\n",
       "      <td>#tcot</td>\n",
       "      <td>41</td>\n",
       "    </tr>\n",
       "    <tr>\n",
       "      <th>8</th>\n",
       "      <td>#hoosiers</td>\n",
       "      <td>23</td>\n",
       "    </tr>\n",
       "    <tr>\n",
       "      <th>9</th>\n",
       "      <td>#morningjoe</td>\n",
       "      <td>22</td>\n",
       "    </tr>\n",
       "  </tbody>\n",
       "</table>\n",
       "</div>"
      ],
      "text/plain": [
       "       hashtag  counts\n",
       "0     #Yankees      94\n",
       "1      #iphone      50\n",
       "2        #ipad      48\n",
       "3         #sex      48\n",
       "4     #android      48\n",
       "5        #porn      48\n",
       "6         #xxx      48\n",
       "7        #tcot      41\n",
       "8    #hoosiers      23\n",
       "9  #morningjoe      22"
      ]
     },
     "execution_count": 23,
     "metadata": {
      "tags": []
     },
     "output_type": "execute_result"
    }
   ],
   "source": [
    "# Count of appearances of each hashtag\n",
    "popular_hashtags = flattened_hashtags_data.groupby('hashtag').size()\\\n",
    "                                        .reset_index(name='counts')\\\n",
    "                                        .sort_values('counts', ascending=False)\\\n",
    "                                        .reset_index(drop=True)\n",
    "popular_hashtags.head(10)"
   ]
  },
  {
   "cell_type": "markdown",
   "metadata": {
    "id": "3sXBr4ShlWLJ"
   },
   "source": [
    "#### Who is being retweeted "
   ]
  },
  {
   "cell_type": "code",
   "execution_count": null,
   "metadata": {
    "colab": {
     "base_uri": "https://localhost:8080/"
    },
    "id": "WoLSUObGlWLJ",
    "outputId": "a58f8dee-65fb-4a56-8884-ef4620e57a8c"
   },
   "outputs": [
    {
     "data": {
      "text/html": [
       "<div>\n",
       "<style scoped>\n",
       "    .dataframe tbody tr th:only-of-type {\n",
       "        vertical-align: middle;\n",
       "    }\n",
       "\n",
       "    .dataframe tbody tr th {\n",
       "        vertical-align: top;\n",
       "    }\n",
       "\n",
       "    .dataframe thead th {\n",
       "        text-align: right;\n",
       "    }\n",
       "</style>\n",
       "<table border=\"1\" class=\"dataframe\">\n",
       "  <thead>\n",
       "    <tr style=\"text-align: right;\">\n",
       "      <th></th>\n",
       "      <th>retweeted</th>\n",
       "    </tr>\n",
       "  </thead>\n",
       "  <tbody>\n",
       "    <tr>\n",
       "      <th>0</th>\n",
       "      <td>[@mayasolovely]</td>\n",
       "    </tr>\n",
       "    <tr>\n",
       "      <th>1</th>\n",
       "      <td>[@mleew17]</td>\n",
       "    </tr>\n",
       "    <tr>\n",
       "      <th>2</th>\n",
       "      <td>[@UrKindOfBrand]</td>\n",
       "    </tr>\n",
       "    <tr>\n",
       "      <th>3</th>\n",
       "      <td>[@C_G_Anderson]</td>\n",
       "    </tr>\n",
       "    <tr>\n",
       "      <th>4</th>\n",
       "      <td>[@ShenikaRoberts]</td>\n",
       "    </tr>\n",
       "  </tbody>\n",
       "</table>\n",
       "</div>"
      ],
      "text/plain": [
       "           retweeted\n",
       "0    [@mayasolovely]\n",
       "1         [@mleew17]\n",
       "2   [@UrKindOfBrand]\n",
       "3    [@C_G_Anderson]\n",
       "4  [@ShenikaRoberts]"
      ]
     },
     "execution_count": 24,
     "metadata": {
      "tags": []
     },
     "output_type": "execute_result"
    }
   ],
   "source": [
    "# Take the rows from the retweeted columns where there are actually hashtags\n",
    "\n",
    "retweeted_list_data = data.loc[\n",
    "                       data.retweeted.apply(\n",
    "                           lambda retweeted_list: retweeted_list !=[]\n",
    "                       ),['retweeted']]\n",
    "retweeted_list_data.head()\n"
   ]
  },
  {
   "cell_type": "code",
   "execution_count": null,
   "metadata": {
    "colab": {
     "base_uri": "https://localhost:8080/"
    },
    "id": "NfsttYiOlWLL",
    "outputId": "fa8206a1-1745-47b9-80c0-8d5705951156"
   },
   "outputs": [
    {
     "data": {
      "text/html": [
       "<div>\n",
       "<style scoped>\n",
       "    .dataframe tbody tr th:only-of-type {\n",
       "        vertical-align: middle;\n",
       "    }\n",
       "\n",
       "    .dataframe tbody tr th {\n",
       "        vertical-align: top;\n",
       "    }\n",
       "\n",
       "    .dataframe thead th {\n",
       "        text-align: right;\n",
       "    }\n",
       "</style>\n",
       "<table border=\"1\" class=\"dataframe\">\n",
       "  <thead>\n",
       "    <tr style=\"text-align: right;\">\n",
       "      <th></th>\n",
       "      <th>retweeted</th>\n",
       "    </tr>\n",
       "  </thead>\n",
       "  <tbody>\n",
       "    <tr>\n",
       "      <th>0</th>\n",
       "      <td>@mayasolovely</td>\n",
       "    </tr>\n",
       "    <tr>\n",
       "      <th>1</th>\n",
       "      <td>@mleew17</td>\n",
       "    </tr>\n",
       "    <tr>\n",
       "      <th>2</th>\n",
       "      <td>@UrKindOfBrand</td>\n",
       "    </tr>\n",
       "    <tr>\n",
       "      <th>3</th>\n",
       "      <td>@C_G_Anderson</td>\n",
       "    </tr>\n",
       "    <tr>\n",
       "      <th>4</th>\n",
       "      <td>@ShenikaRoberts</td>\n",
       "    </tr>\n",
       "  </tbody>\n",
       "</table>\n",
       "</div>"
      ],
      "text/plain": [
       "         retweeted\n",
       "0    @mayasolovely\n",
       "1         @mleew17\n",
       "2   @UrKindOfBrand\n",
       "3    @C_G_Anderson\n",
       "4  @ShenikaRoberts"
      ]
     },
     "execution_count": 25,
     "metadata": {
      "tags": []
     },
     "output_type": "execute_result"
    }
   ],
   "source": [
    "# Create dataframe where each use of retweeted gets its own row\n",
    "\n",
    "flattened_retweeted_data = pd.DataFrame(\n",
    "    [retweeted for retweeted_list in retweeted_list_data.retweeted\n",
    "    for retweeted in retweeted_list],\n",
    "    columns=['retweeted'])\n",
    "flattened_retweeted_data.head()\n"
   ]
  },
  {
   "cell_type": "code",
   "execution_count": null,
   "metadata": {
    "colab": {
     "base_uri": "https://localhost:8080/"
    },
    "id": "ww2dQFJblWLM",
    "outputId": "efdb0289-f00c-41e4-d51c-4c0b5975a0b9"
   },
   "outputs": [
    {
     "data": {
      "text/plain": [
       "(7073, 1)"
      ]
     },
     "execution_count": 26,
     "metadata": {
      "tags": []
     },
     "output_type": "execute_result"
    }
   ],
   "source": [
    "flattened_retweeted_data.shape"
   ]
  },
  {
   "cell_type": "code",
   "execution_count": null,
   "metadata": {
    "colab": {
     "base_uri": "https://localhost:8080/"
    },
    "id": "VEOvdGIJlWLN",
    "outputId": "c47cb2ca-ed25-4166-ea20-4e2ec555ee6a"
   },
   "outputs": [
    {
     "data": {
      "text/plain": [
       "5296"
      ]
     },
     "execution_count": 27,
     "metadata": {
      "tags": []
     },
     "output_type": "execute_result"
    }
   ],
   "source": [
    "# Number of unique retweeted\n",
    "\n",
    "flattened_retweeted_data['retweeted'].unique().size"
   ]
  },
  {
   "cell_type": "code",
   "execution_count": null,
   "metadata": {
    "colab": {
     "base_uri": "https://localhost:8080/"
    },
    "id": "5Z5iqppLlWLO",
    "outputId": "20a93aeb-07c8-4da8-e463-84b4fef7187a"
   },
   "outputs": [
    {
     "data": {
      "text/html": [
       "<div>\n",
       "<style scoped>\n",
       "    .dataframe tbody tr th:only-of-type {\n",
       "        vertical-align: middle;\n",
       "    }\n",
       "\n",
       "    .dataframe tbody tr th {\n",
       "        vertical-align: top;\n",
       "    }\n",
       "\n",
       "    .dataframe thead th {\n",
       "        text-align: right;\n",
       "    }\n",
       "</style>\n",
       "<table border=\"1\" class=\"dataframe\">\n",
       "  <thead>\n",
       "    <tr style=\"text-align: right;\">\n",
       "      <th></th>\n",
       "      <th>retweeted</th>\n",
       "      <th>counts</th>\n",
       "    </tr>\n",
       "  </thead>\n",
       "  <tbody>\n",
       "    <tr>\n",
       "      <th>0</th>\n",
       "      <td>@iDntWearCondoms</td>\n",
       "      <td>25</td>\n",
       "    </tr>\n",
       "    <tr>\n",
       "      <th>1</th>\n",
       "      <td>@Yankees</td>\n",
       "      <td>24</td>\n",
       "    </tr>\n",
       "    <tr>\n",
       "      <th>2</th>\n",
       "      <td>@JoeBudden</td>\n",
       "      <td>23</td>\n",
       "    </tr>\n",
       "    <tr>\n",
       "      <th>3</th>\n",
       "      <td>@CauseWereGuys</td>\n",
       "      <td>22</td>\n",
       "    </tr>\n",
       "    <tr>\n",
       "      <th>4</th>\n",
       "      <td>@KINGTUNCHI_</td>\n",
       "      <td>19</td>\n",
       "    </tr>\n",
       "    <tr>\n",
       "      <th>5</th>\n",
       "      <td>@FriendlyAssh0le</td>\n",
       "      <td>19</td>\n",
       "    </tr>\n",
       "    <tr>\n",
       "      <th>6</th>\n",
       "      <td>@KingHorseDick</td>\n",
       "      <td>19</td>\n",
       "    </tr>\n",
       "    <tr>\n",
       "      <th>7</th>\n",
       "      <td>@FunnyPicsDepot</td>\n",
       "      <td>15</td>\n",
       "    </tr>\n",
       "    <tr>\n",
       "      <th>8</th>\n",
       "      <td>@CuhCuhCuh</td>\n",
       "      <td>15</td>\n",
       "    </tr>\n",
       "    <tr>\n",
       "      <th>9</th>\n",
       "      <td>@SteveStfler</td>\n",
       "      <td>14</td>\n",
       "    </tr>\n",
       "  </tbody>\n",
       "</table>\n",
       "</div>"
      ],
      "text/plain": [
       "          retweeted  counts\n",
       "0  @iDntWearCondoms      25\n",
       "1          @Yankees      24\n",
       "2        @JoeBudden      23\n",
       "3    @CauseWereGuys      22\n",
       "4      @KINGTUNCHI_      19\n",
       "5  @FriendlyAssh0le      19\n",
       "6    @KingHorseDick      19\n",
       "7   @FunnyPicsDepot      15\n",
       "8        @CuhCuhCuh      15\n",
       "9      @SteveStfler      14"
      ]
     },
     "execution_count": 28,
     "metadata": {
      "tags": []
     },
     "output_type": "execute_result"
    }
   ],
   "source": [
    "# Count of appearances of each retweeted\n",
    "popular_retweeted = flattened_retweeted_data.groupby('retweeted').size()\\\n",
    "                                        .reset_index(name='counts')\\\n",
    "                                        .sort_values('counts', ascending=False)\\\n",
    "                                        .reset_index(drop=True)\n",
    "popular_retweeted.head(10)"
   ]
  },
  {
   "cell_type": "markdown",
   "metadata": {
    "id": "DsZuejQQlWLP"
   },
   "source": [
    "#### Who is being tweeted at/mentioned"
   ]
  },
  {
   "cell_type": "code",
   "execution_count": null,
   "metadata": {
    "colab": {
     "base_uri": "https://localhost:8080/"
    },
    "id": "FlUvNUvqlWLQ",
    "outputId": "c37391aa-bc5c-4c05-a09a-e1efc884caae"
   },
   "outputs": [
    {
     "data": {
      "text/html": [
       "<div>\n",
       "<style scoped>\n",
       "    .dataframe tbody tr th:only-of-type {\n",
       "        vertical-align: middle;\n",
       "    }\n",
       "\n",
       "    .dataframe tbody tr th {\n",
       "        vertical-align: top;\n",
       "    }\n",
       "\n",
       "    .dataframe thead th {\n",
       "        text-align: right;\n",
       "    }\n",
       "</style>\n",
       "<table border=\"1\" class=\"dataframe\">\n",
       "  <thead>\n",
       "    <tr style=\"text-align: right;\">\n",
       "      <th></th>\n",
       "      <th>mentioned</th>\n",
       "    </tr>\n",
       "  </thead>\n",
       "  <tbody>\n",
       "    <tr>\n",
       "      <th>3</th>\n",
       "      <td>[@viva_based]</td>\n",
       "    </tr>\n",
       "    <tr>\n",
       "      <th>5</th>\n",
       "      <td>[@T_Madison_x]</td>\n",
       "    </tr>\n",
       "    <tr>\n",
       "      <th>7</th>\n",
       "      <td>[@selfiequeenbri]</td>\n",
       "    </tr>\n",
       "    <tr>\n",
       "      <th>9</th>\n",
       "      <td>[@rhythmixx_]</td>\n",
       "    </tr>\n",
       "    <tr>\n",
       "      <th>52</th>\n",
       "      <td>[@DaRealKha]</td>\n",
       "    </tr>\n",
       "  </tbody>\n",
       "</table>\n",
       "</div>"
      ],
      "text/plain": [
       "            mentioned\n",
       "3       [@viva_based]\n",
       "5      [@T_Madison_x]\n",
       "7   [@selfiequeenbri]\n",
       "9       [@rhythmixx_]\n",
       "52       [@DaRealKha]"
      ]
     },
     "execution_count": 29,
     "metadata": {
      "tags": []
     },
     "output_type": "execute_result"
    }
   ],
   "source": [
    "# Take the rows from the mentioned columns where there are actually hashtags\n",
    "\n",
    "mentioned_list_data = data.loc[\n",
    "                       data.mentioned.apply(\n",
    "                           lambda mentioned_list: mentioned_list !=[]\n",
    "                       ),['mentioned']]\n",
    "mentioned_list_data.head()\n",
    "\n"
   ]
  },
  {
   "cell_type": "code",
   "execution_count": null,
   "metadata": {
    "colab": {
     "base_uri": "https://localhost:8080/"
    },
    "id": "0JAgTCA9lWLR",
    "outputId": "37242839-7e51-445f-b809-8d9bf8a8aaf0"
   },
   "outputs": [
    {
     "data": {
      "text/html": [
       "<div>\n",
       "<style scoped>\n",
       "    .dataframe tbody tr th:only-of-type {\n",
       "        vertical-align: middle;\n",
       "    }\n",
       "\n",
       "    .dataframe tbody tr th {\n",
       "        vertical-align: top;\n",
       "    }\n",
       "\n",
       "    .dataframe thead th {\n",
       "        text-align: right;\n",
       "    }\n",
       "</style>\n",
       "<table border=\"1\" class=\"dataframe\">\n",
       "  <thead>\n",
       "    <tr style=\"text-align: right;\">\n",
       "      <th></th>\n",
       "      <th>mentioned</th>\n",
       "    </tr>\n",
       "  </thead>\n",
       "  <tbody>\n",
       "    <tr>\n",
       "      <th>0</th>\n",
       "      <td>@viva_based</td>\n",
       "    </tr>\n",
       "    <tr>\n",
       "      <th>1</th>\n",
       "      <td>@T_Madison_x</td>\n",
       "    </tr>\n",
       "    <tr>\n",
       "      <th>2</th>\n",
       "      <td>@selfiequeenbri</td>\n",
       "    </tr>\n",
       "    <tr>\n",
       "      <th>3</th>\n",
       "      <td>@rhythmixx_</td>\n",
       "    </tr>\n",
       "    <tr>\n",
       "      <th>4</th>\n",
       "      <td>@DaRealKha</td>\n",
       "    </tr>\n",
       "  </tbody>\n",
       "</table>\n",
       "</div>"
      ],
      "text/plain": [
       "         mentioned\n",
       "0      @viva_based\n",
       "1     @T_Madison_x\n",
       "2  @selfiequeenbri\n",
       "3      @rhythmixx_\n",
       "4       @DaRealKha"
      ]
     },
     "execution_count": 30,
     "metadata": {
      "tags": []
     },
     "output_type": "execute_result"
    }
   ],
   "source": [
    "# Create dataframe where each use of mentioned gets its own row\n",
    "\n",
    "flattened_mentioned_data = pd.DataFrame(\n",
    "    [mentioned for mentioned_list in mentioned_list_data.mentioned\n",
    "    for mentioned in mentioned_list],\n",
    "    columns=['mentioned'])\n",
    "flattened_mentioned_data.head()"
   ]
  },
  {
   "cell_type": "code",
   "execution_count": null,
   "metadata": {
    "colab": {
     "base_uri": "https://localhost:8080/"
    },
    "id": "hgVtFK69lWLS",
    "outputId": "65246451-6d65-435c-80b3-b29c20e9498d"
   },
   "outputs": [
    {
     "data": {
      "text/plain": [
       "(10958, 1)"
      ]
     },
     "execution_count": 31,
     "metadata": {
      "tags": []
     },
     "output_type": "execute_result"
    }
   ],
   "source": [
    "flattened_mentioned_data.shape"
   ]
  },
  {
   "cell_type": "code",
   "execution_count": null,
   "metadata": {
    "colab": {
     "base_uri": "https://localhost:8080/"
    },
    "id": "4_IR8BTvlWLW",
    "outputId": "2886a123-85fc-4fc6-f7fa-0d9860aae0fa"
   },
   "outputs": [
    {
     "data": {
      "text/plain": [
       "7039"
      ]
     },
     "execution_count": 32,
     "metadata": {
      "tags": []
     },
     "output_type": "execute_result"
    }
   ],
   "source": [
    "# Number of unique retweeted\n",
    "\n",
    "flattened_mentioned_data['mentioned'].unique().size"
   ]
  },
  {
   "cell_type": "code",
   "execution_count": null,
   "metadata": {
    "colab": {
     "base_uri": "https://localhost:8080/"
    },
    "id": "jnTceIYOlWLY",
    "outputId": "95f769db-4f87-4734-cd69-eb53aa1457a4"
   },
   "outputs": [
    {
     "data": {
      "text/html": [
       "<div>\n",
       "<style scoped>\n",
       "    .dataframe tbody tr th:only-of-type {\n",
       "        vertical-align: middle;\n",
       "    }\n",
       "\n",
       "    .dataframe tbody tr th {\n",
       "        vertical-align: top;\n",
       "    }\n",
       "\n",
       "    .dataframe thead th {\n",
       "        text-align: right;\n",
       "    }\n",
       "</style>\n",
       "<table border=\"1\" class=\"dataframe\">\n",
       "  <thead>\n",
       "    <tr style=\"text-align: right;\">\n",
       "      <th></th>\n",
       "      <th>mentioned</th>\n",
       "      <th>counts</th>\n",
       "    </tr>\n",
       "  </thead>\n",
       "  <tbody>\n",
       "    <tr>\n",
       "      <th>0</th>\n",
       "      <td>@kieffer_jason</td>\n",
       "      <td>101</td>\n",
       "    </tr>\n",
       "    <tr>\n",
       "      <th>1</th>\n",
       "      <td>@Yankees</td>\n",
       "      <td>46</td>\n",
       "    </tr>\n",
       "    <tr>\n",
       "      <th>2</th>\n",
       "      <td>@Huntermoore</td>\n",
       "      <td>30</td>\n",
       "    </tr>\n",
       "    <tr>\n",
       "      <th>3</th>\n",
       "      <td>@Buckm00se</td>\n",
       "      <td>23</td>\n",
       "    </tr>\n",
       "    <tr>\n",
       "      <th>4</th>\n",
       "      <td>@sbsylvester</td>\n",
       "      <td>22</td>\n",
       "    </tr>\n",
       "    <tr>\n",
       "      <th>5</th>\n",
       "      <td>@what_evaittakes</td>\n",
       "      <td>20</td>\n",
       "    </tr>\n",
       "    <tr>\n",
       "      <th>6</th>\n",
       "      <td>@VoiceOfDStreetz</td>\n",
       "      <td>19</td>\n",
       "    </tr>\n",
       "    <tr>\n",
       "      <th>7</th>\n",
       "      <td>@JawShoeeAhhh</td>\n",
       "      <td>18</td>\n",
       "    </tr>\n",
       "    <tr>\n",
       "      <th>8</th>\n",
       "      <td>@Leelucas_</td>\n",
       "      <td>18</td>\n",
       "    </tr>\n",
       "    <tr>\n",
       "      <th>9</th>\n",
       "      <td>@viaNAWF</td>\n",
       "      <td>18</td>\n",
       "    </tr>\n",
       "  </tbody>\n",
       "</table>\n",
       "</div>"
      ],
      "text/plain": [
       "          mentioned  counts\n",
       "0    @kieffer_jason     101\n",
       "1          @Yankees      46\n",
       "2      @Huntermoore      30\n",
       "3        @Buckm00se      23\n",
       "4      @sbsylvester      22\n",
       "5  @what_evaittakes      20\n",
       "6  @VoiceOfDStreetz      19\n",
       "7     @JawShoeeAhhh      18\n",
       "8        @Leelucas_      18\n",
       "9          @viaNAWF      18"
      ]
     },
     "execution_count": 33,
     "metadata": {
      "tags": []
     },
     "output_type": "execute_result"
    }
   ],
   "source": [
    "# Count of appearances of each retweeted\n",
    "popular_mentioned = flattened_mentioned_data.groupby('mentioned').size()\\\n",
    "                                        .reset_index(name='counts')\\\n",
    "                                        .sort_values('counts', ascending=False)\\\n",
    "                                        .reset_index(drop=True)\n",
    "popular_mentioned.head(10)"
   ]
  },
  {
   "cell_type": "markdown",
   "metadata": {
    "id": "jTg234QKlWLZ"
   },
   "source": [
    "### Wordcloud for 3 categories of tweets"
   ]
  },
  {
   "cell_type": "code",
   "execution_count": null,
   "metadata": {
    "colab": {
     "base_uri": "https://localhost:8080/"
    },
    "id": "MCgBUnNnlWLa",
    "outputId": "8f4fe6cc-d7cd-4d0d-8b68-baab6092566a"
   },
   "outputs": [
    {
     "name": "stdout",
     "output_type": "stream",
     "text": [
      "<class 'set'>\n",
      "<wordcloud.wordcloud.WordCloud object at 0x7f8a5b135a50>\n"
     ]
    },
    {
     "data": {
      "image/png": "[encoded data removed]",
      "text/plain": [
       "<Figure size 432x288 with 1 Axes>"
      ]
     },
     "metadata": {
      "needs_background": "light",
      "tags": []
     },
     "output_type": "display_data"
    }
   ],
   "source": [
    "# Hate Speech\n",
    "\n",
    "from wordcloud import WordCloud, STOPWORDS\n",
    "stopwords = set(STOPWORDS)\n",
    "stopwords.add(\"RT\")\n",
    "\n",
    "print(type(STOPWORDS))\n",
    "\n",
    "import random\n",
    "\n",
    "def random_color_func(word=None, font_size=None, position=None,  orientation=None, font_path=None, random_state=None):\n",
    "    h = 344\n",
    "    s = int(100.0 * 255.0 / 255.0)\n",
    "    l = int(100.0 * float(random_state.randint(60, 120)) / 255.0)\n",
    "    return \"hsl({}, {}%, {}%)\".format(h, s, l)\n",
    "\n",
    "wordcloud = WordCloud(\n",
    "                          background_color='white',\n",
    "                          stopwords=stopwords,\n",
    "                          max_words=200,\n",
    "                          max_font_size=60, \n",
    "                          random_state=42\n",
    "                         ).generate(str(data.loc[data[\"class\"]== 0].tweet))\n",
    "print(wordcloud)\n",
    "fig = plt.figure(1)\n",
    "plt.imshow(wordcloud.recolor(color_func= random_color_func, random_state=3),\n",
    "           interpolation=\"bilinear\")\n",
    "plt.axis('off')\n",
    "plt.show()"
   ]
  },
  {
   "cell_type": "code",
   "execution_count": null,
   "metadata": {
    "colab": {
     "base_uri": "https://localhost:8080/"
    },
    "id": "STMCVvR6lWLb",
    "outputId": "10d952ad-20a4-4030-d63b-533dda59dbd8"
   },
   "outputs": [
    {
     "name": "stdout",
     "output_type": "stream",
     "text": [
      "<wordcloud.wordcloud.WordCloud object at 0x7f8a5b0e28d0>\n"
     ]
    },
    {
     "data": {
      "image/png": "[encoded data removed]",
      "text/plain": [
       "<Figure size 432x288 with 1 Axes>"
      ]
     },
     "metadata": {
      "needs_background": "light",
      "tags": []
     },
     "output_type": "display_data"
    }
   ],
   "source": [
    "# Offensive Language \n",
    "\n",
    "def random_color_func(word=None, font_size=None, position=None,  orientation=None, font_path=None, random_state=None):\n",
    "    h = 344\n",
    "    s = int(100.0 * 255.0 / 255.0)\n",
    "    l = int(100.0 * float(random_state.randint(60, 120)) / 255.0)\n",
    "    return \"hsl({}, {}%, {}%)\".format(h, s, l)\n",
    "\n",
    "wordcloud = WordCloud(\n",
    "                          background_color='white',\n",
    "                          stopwords=stopwords,\n",
    "                          max_words=200,\n",
    "                          max_font_size=60, \n",
    "                          random_state=42\n",
    "                         ).generate(str(data.loc[data[\"class\"]== 1].tweet))\n",
    "print(wordcloud)\n",
    "fig = plt.figure(1)\n",
    "plt.imshow(wordcloud.recolor(color_func= random_color_func, random_state=3),\n",
    "           interpolation=\"bilinear\")\n",
    "plt.axis('off')\n",
    "plt.show()"
   ]
  },
  {
   "cell_type": "code",
   "execution_count": null,
   "metadata": {
    "colab": {
     "base_uri": "https://localhost:8080/"
    },
    "id": "s5rAiMgLlWLd",
    "outputId": "cb5ab780-cd62-4c93-c6eb-99b55ef9422f"
   },
   "outputs": [
    {
     "name": "stdout",
     "output_type": "stream",
     "text": [
      "<wordcloud.wordcloud.WordCloud object at 0x7f8a5b0e22d0>\n"
     ]
    },
    {
     "data": {
      "image/png": "[encoded data removed]",
      "text/plain": [
       "<Figure size 432x288 with 1 Axes>"
      ]
     },
     "metadata": {
      "needs_background": "light",
      "tags": []
     },
     "output_type": "display_data"
    }
   ],
   "source": [
    "# Neither\n",
    "\n",
    "def random_color_func(word=None, font_size=None, position=None,  orientation=None, font_path=None, random_state=None):\n",
    "    h = 344\n",
    "    s = int(100.0 * 255.0 / 255.0)\n",
    "    l = int(100.0 * float(random_state.randint(60, 120)) / 255.0)\n",
    "    return \"hsl({}, {}%, {}%)\".format(h, s, l)\n",
    "\n",
    "wordcloud = WordCloud(\n",
    "                          background_color='white',\n",
    "                          stopwords=stopwords,\n",
    "                          max_words=200,\n",
    "                          max_font_size=60, \n",
    "                          random_state=42\n",
    "                         ).generate(str(data.loc[data[\"class\"]== 2].tweet))\n",
    "print(wordcloud)\n",
    "fig = plt.figure(1)\n",
    "plt.imshow(wordcloud.recolor(color_func= random_color_func, random_state=3),\n",
    "           interpolation=\"bilinear\")\n",
    "plt.axis('off')\n",
    "plt.show()"
   ]
  },
  {
   "cell_type": "markdown",
   "metadata": {
    "id": "GuWthLbolWLf"
   },
   "source": [
    "### Cleaning Unstructured Text Data"
   ]
  },
  {
   "cell_type": "code",
   "execution_count": 8,
   "metadata": {
    "id": "3zevq9f4lWLg"
   },
   "outputs": [],
   "source": [
    "# Create functions\n",
    "\n",
    "def remove_links(tweet):\n",
    "    '''Takes a string and removes web links from it'''\n",
    "    tweet = re.sub(r'http\\S+', '', tweet) # remove http links\n",
    "    tweet = re.sub(r'bit.ly/\\S+', '', tweet) # rempve bitly links\n",
    "    tweet = tweet.strip('[link]') # remove [links]\n",
    "    return tweet\n",
    "\n",
    "def remove_users(tweet):\n",
    "    '''Takes a string and removes retweet and @user information'''\n",
    "    tweet = re.sub('(RT\\s@[A-Za-z0-9-_]+[A-Za-z0-9-_]+)', '', tweet) # remove retweet\n",
    "    tweet = re.sub('(@[A-Za-z0-9-_]+[A-Za-z0-9-_]+)', '', tweet) # remove tweeted at\n",
    "    return tweet"
   ]
  },
  {
   "cell_type": "code",
   "execution_count": 9,
   "metadata": {
    "id": "kDg_3Frrgjzh"
   },
   "outputs": [],
   "source": [
    "my_stopwords = nltk.corpus.stopwords.words('english')\n",
    "my_punctuation = '!\"$%&\\'()*+,-./:;<=>?[\\\\]\\\\\\\\\\^_`{|}~•@#'\n",
    "\n",
    "# cleaning master function\n",
    "def clean_tweet(tweet):\n",
    "    tweet = remove_users(tweet)\n",
    "    tweet = remove_links(tweet)\n",
    "    tweet = tweet.lower() # lower case\n",
    "    tweet = re.sub('['+my_punctuation + ']+', ' ', tweet) # strip punctuation\n",
    "    tweet = re.sub('([0-9]+)', '', tweet) # remove numbers\n",
    "    tweet = re.sub('amp', '', tweet) # remove amp\n",
    "    tweet = re.sub(r'\\s+', ' ', tweet) #remove double spacing\n",
    "    tweet_token_list = [word for word in tweet.split(' ')\n",
    "                            if word not in my_stopwords] # remove stopwords\n",
    "    lemmatizer = WordNetLemmatizer() \n",
    "    tweet_token_list = [lemmatizer.lemmatize(word) # if '#' not in word else word\n",
    "                        for word in tweet_token_list] # apply word rooter\n",
    "    tweet = ' '.join(tweet_token_list)\n",
    "    return tweet"
   ]
  },
  {
   "cell_type": "code",
   "execution_count": 10,
   "metadata": {
    "colab": {
     "base_uri": "https://localhost:8080/"
    },
    "id": "GIfXzpXhlWLl",
    "outputId": "ec1796da-f70d-45dd-89d2-19e12e6cc928"
   },
   "outputs": [
    {
     "data": {
      "text/html": [
       "<div>\n",
       "<style scoped>\n",
       "    .dataframe tbody tr th:only-of-type {\n",
       "        vertical-align: middle;\n",
       "    }\n",
       "\n",
       "    .dataframe tbody tr th {\n",
       "        vertical-align: top;\n",
       "    }\n",
       "\n",
       "    .dataframe thead th {\n",
       "        text-align: right;\n",
       "    }\n",
       "</style>\n",
       "<table border=\"1\" class=\"dataframe\">\n",
       "  <thead>\n",
       "    <tr style=\"text-align: right;\">\n",
       "      <th></th>\n",
       "      <th>Unnamed: 0</th>\n",
       "      <th>count</th>\n",
       "      <th>hate_speech</th>\n",
       "      <th>offensive_language</th>\n",
       "      <th>neither</th>\n",
       "      <th>class</th>\n",
       "      <th>tweet</th>\n",
       "      <th>clean_tweet</th>\n",
       "    </tr>\n",
       "  </thead>\n",
       "  <tbody>\n",
       "    <tr>\n",
       "      <th>0</th>\n",
       "      <td>0</td>\n",
       "      <td>3</td>\n",
       "      <td>0</td>\n",
       "      <td>0</td>\n",
       "      <td>3</td>\n",
       "      <td>2</td>\n",
       "      <td>!!! RT @mayasolovely: As a woman you shouldn't...</td>\n",
       "      <td>woman complain cleaning house man always take...</td>\n",
       "    </tr>\n",
       "    <tr>\n",
       "      <th>1</th>\n",
       "      <td>1</td>\n",
       "      <td>3</td>\n",
       "      <td>0</td>\n",
       "      <td>3</td>\n",
       "      <td>0</td>\n",
       "      <td>1</td>\n",
       "      <td>!!!!! RT @mleew17: boy dats cold...tyga dwn ba...</td>\n",
       "      <td>boy dat cold tyga dwn bad cuffin dat hoe st p...</td>\n",
       "    </tr>\n",
       "    <tr>\n",
       "      <th>2</th>\n",
       "      <td>2</td>\n",
       "      <td>3</td>\n",
       "      <td>0</td>\n",
       "      <td>3</td>\n",
       "      <td>0</td>\n",
       "      <td>1</td>\n",
       "      <td>!!!!!!! RT @UrKindOfBrand Dawg!!!! RT @80sbaby...</td>\n",
       "      <td>dawg ever fuck bitch start cry confused shit</td>\n",
       "    </tr>\n",
       "    <tr>\n",
       "      <th>3</th>\n",
       "      <td>3</td>\n",
       "      <td>3</td>\n",
       "      <td>0</td>\n",
       "      <td>2</td>\n",
       "      <td>1</td>\n",
       "      <td>1</td>\n",
       "      <td>!!!!!!!!! RT @C_G_Anderson: @viva_based she lo...</td>\n",
       "      <td>look like tranny</td>\n",
       "    </tr>\n",
       "    <tr>\n",
       "      <th>4</th>\n",
       "      <td>4</td>\n",
       "      <td>6</td>\n",
       "      <td>0</td>\n",
       "      <td>6</td>\n",
       "      <td>0</td>\n",
       "      <td>1</td>\n",
       "      <td>!!!!!!!!!!!!! RT @ShenikaRoberts: The shit you...</td>\n",
       "      <td>shit hear might true might faker bitch told ya</td>\n",
       "    </tr>\n",
       "  </tbody>\n",
       "</table>\n",
       "</div>"
      ],
      "text/plain": [
       "   Unnamed: 0  count  hate_speech  offensive_language  neither  class  \\\n",
       "0           0      3            0                   0        3      2   \n",
       "1           1      3            0                   3        0      1   \n",
       "2           2      3            0                   3        0      1   \n",
       "3           3      3            0                   2        1      1   \n",
       "4           4      6            0                   6        0      1   \n",
       "\n",
       "                                               tweet  \\\n",
       "0  !!! RT @mayasolovely: As a woman you shouldn't...   \n",
       "1  !!!!! RT @mleew17: boy dats cold...tyga dwn ba...   \n",
       "2  !!!!!!! RT @UrKindOfBrand Dawg!!!! RT @80sbaby...   \n",
       "3  !!!!!!!!! RT @C_G_Anderson: @viva_based she lo...   \n",
       "4  !!!!!!!!!!!!! RT @ShenikaRoberts: The shit you...   \n",
       "\n",
       "                                         clean_tweet  \n",
       "0   woman complain cleaning house man always take...  \n",
       "1   boy dat cold tyga dwn bad cuffin dat hoe st p...  \n",
       "2       dawg ever fuck bitch start cry confused shit  \n",
       "3                                   look like tranny  \n",
       "4    shit hear might true might faker bitch told ya   "
      ]
     },
     "execution_count": 10,
     "metadata": {},
     "output_type": "execute_result"
    }
   ],
   "source": [
    "data['clean_tweet'] = data.tweet.apply(clean_tweet)\n",
    "data.head()"
   ]
  },
  {
   "cell_type": "code",
   "execution_count": 11,
   "metadata": {
    "colab": {
     "base_uri": "https://localhost:8080/"
    },
    "id": "Jo3kbTqVlWLp",
    "outputId": "2121dc96-adcc-471e-be56-93033d08f672"
   },
   "outputs": [
    {
     "data": {
      "text/html": [
       "<div>\n",
       "<style scoped>\n",
       "    .dataframe tbody tr th:only-of-type {\n",
       "        vertical-align: middle;\n",
       "    }\n",
       "\n",
       "    .dataframe tbody tr th {\n",
       "        vertical-align: top;\n",
       "    }\n",
       "\n",
       "    .dataframe thead th {\n",
       "        text-align: right;\n",
       "    }\n",
       "</style>\n",
       "<table border=\"1\" class=\"dataframe\">\n",
       "  <thead>\n",
       "    <tr style=\"text-align: right;\">\n",
       "      <th></th>\n",
       "      <th>label</th>\n",
       "      <th>tweet</th>\n",
       "      <th>clean_tweet</th>\n",
       "    </tr>\n",
       "  </thead>\n",
       "  <tbody>\n",
       "    <tr>\n",
       "      <th>0</th>\n",
       "      <td>1</td>\n",
       "      <td>@user #cnn calls #michigan middle school 'buil...</td>\n",
       "      <td>cnn call michigan middle school build wall ch...</td>\n",
       "    </tr>\n",
       "    <tr>\n",
       "      <th>1</th>\n",
       "      <td>1</td>\n",
       "      <td>@user @user lumpy says i am a . prove it lumpy.</td>\n",
       "      <td>lumpy say prove lumpy</td>\n",
       "    </tr>\n",
       "    <tr>\n",
       "      <th>2</th>\n",
       "      <td>1</td>\n",
       "      <td>it's unbelievable that in the 21st century we'...</td>\n",
       "      <td>unbelievable st century need something like ne...</td>\n",
       "    </tr>\n",
       "    <tr>\n",
       "      <th>3</th>\n",
       "      <td>1</td>\n",
       "      <td>@user lets fight against  #love #peace</td>\n",
       "      <td>let fight love peace</td>\n",
       "    </tr>\n",
       "    <tr>\n",
       "      <th>4</th>\n",
       "      <td>1</td>\n",
       "      <td>ð©the white establishment can't have blk fol...</td>\n",
       "      <td>ð©the white establishment blk folx running a...</td>\n",
       "    </tr>\n",
       "    <tr>\n",
       "      <th>...</th>\n",
       "      <td>...</td>\n",
       "      <td>...</td>\n",
       "      <td>...</td>\n",
       "    </tr>\n",
       "    <tr>\n",
       "      <th>2230</th>\n",
       "      <td>1</td>\n",
       "      <td>lady banned from kentucky mall. @user  #jcpenn...</td>\n",
       "      <td>ady banned kentucky mall jcpenny kentucky</td>\n",
       "    </tr>\n",
       "    <tr>\n",
       "      <th>2231</th>\n",
       "      <td>1</td>\n",
       "      <td>@user omfg i'm offended! i'm a  mailbox and i'...</td>\n",
       "      <td>omfg offended mailbox proud mailboxpride libe...</td>\n",
       "    </tr>\n",
       "    <tr>\n",
       "      <th>2232</th>\n",
       "      <td>1</td>\n",
       "      <td>@user @user you don't have the balls to hashta...</td>\n",
       "      <td>ball hashtag say weasel away lumpy tony dipshit</td>\n",
       "    </tr>\n",
       "    <tr>\n",
       "      <th>2233</th>\n",
       "      <td>1</td>\n",
       "      <td>makes you ask yourself, who am i? then am i a...</td>\n",
       "      <td>make ask anybody god oh thank god</td>\n",
       "    </tr>\n",
       "    <tr>\n",
       "      <th>2234</th>\n",
       "      <td>1</td>\n",
       "      <td>@user #sikh #temple vandalised in in #calgary,...</td>\n",
       "      <td>sikh temple vandalised calgary wso condemns act</td>\n",
       "    </tr>\n",
       "  </tbody>\n",
       "</table>\n",
       "<p>2179 rows × 3 columns</p>\n",
       "</div>"
      ],
      "text/plain": [
       "      label                                              tweet  \\\n",
       "0         1  @user #cnn calls #michigan middle school 'buil...   \n",
       "1         1    @user @user lumpy says i am a . prove it lumpy.   \n",
       "2         1  it's unbelievable that in the 21st century we'...   \n",
       "3         1            @user lets fight against  #love #peace    \n",
       "4         1  ð©the white establishment can't have blk fol...   \n",
       "...     ...                                                ...   \n",
       "2230      1  lady banned from kentucky mall. @user  #jcpenn...   \n",
       "2231      1  @user omfg i'm offended! i'm a  mailbox and i'...   \n",
       "2232      1  @user @user you don't have the balls to hashta...   \n",
       "2233      1   makes you ask yourself, who am i? then am i a...   \n",
       "2234      1  @user #sikh #temple vandalised in in #calgary,...   \n",
       "\n",
       "                                            clean_tweet  \n",
       "0      cnn call michigan middle school build wall ch...  \n",
       "1                                lumpy say prove lumpy   \n",
       "2     unbelievable st century need something like ne...  \n",
       "3                                 let fight love peace   \n",
       "4     ð©the white establishment blk folx running a...  \n",
       "...                                                 ...  \n",
       "2230         ady banned kentucky mall jcpenny kentucky   \n",
       "2231   omfg offended mailbox proud mailboxpride libe...  \n",
       "2232   ball hashtag say weasel away lumpy tony dipshit   \n",
       "2233                 make ask anybody god oh thank god   \n",
       "2234   sikh temple vandalised calgary wso condemns act   \n",
       "\n",
       "[2179 rows x 3 columns]"
      ]
     },
     "execution_count": 11,
     "metadata": {},
     "output_type": "execute_result"
    }
   ],
   "source": [
    "df1['clean_tweet'] = df1.tweet.apply(clean_tweet)\n",
    "df1"
   ]
  },
  {
   "cell_type": "code",
   "execution_count": 12,
   "metadata": {
    "colab": {
     "base_uri": "https://localhost:8080/"
    },
    "id": "Dh9MRvgJYW6L",
    "outputId": "f2f66eb6-b520-41dd-dcab-967d1b607cc3"
   },
   "outputs": [
    {
     "data": {
      "text/html": [
       "<div>\n",
       "<style scoped>\n",
       "    .dataframe tbody tr th:only-of-type {\n",
       "        vertical-align: middle;\n",
       "    }\n",
       "\n",
       "    .dataframe tbody tr th {\n",
       "        vertical-align: top;\n",
       "    }\n",
       "\n",
       "    .dataframe thead th {\n",
       "        text-align: right;\n",
       "    }\n",
       "</style>\n",
       "<table border=\"1\" class=\"dataframe\">\n",
       "  <thead>\n",
       "    <tr style=\"text-align: right;\">\n",
       "      <th></th>\n",
       "      <th>hate_speech_idx</th>\n",
       "      <th>text</th>\n",
       "      <th>clean_tweet</th>\n",
       "    </tr>\n",
       "  </thead>\n",
       "  <tbody>\n",
       "    <tr>\n",
       "      <th>0</th>\n",
       "      <td>[1]</td>\n",
       "      <td>1. i joined gab to remind myself how retarded ...</td>\n",
       "      <td>joined gab remind retarded jew hater typing a...</td>\n",
       "    </tr>\n",
       "    <tr>\n",
       "      <th>2</th>\n",
       "      <td>[2]</td>\n",
       "      <td>1. It makes you an asshole.\\n2. \\tGive it to a...</td>\n",
       "      <td>make asshole give soldier defend try burn sho...</td>\n",
       "    </tr>\n",
       "    <tr>\n",
       "      <th>3</th>\n",
       "      <td>[2]</td>\n",
       "      <td>1. So they manage to provide a whole lot of da...</td>\n",
       "      <td>manage provide whole lot data except critical...</td>\n",
       "    </tr>\n",
       "    <tr>\n",
       "      <th>5</th>\n",
       "      <td>[1]</td>\n",
       "      <td>1. you sound like a faggot \\n</td>\n",
       "      <td>sound like faggot</td>\n",
       "    </tr>\n",
       "    <tr>\n",
       "      <th>7</th>\n",
       "      <td>[2]</td>\n",
       "      <td>1. Well, you are the fuckers that lit the matc...</td>\n",
       "      <td>well fucker lit match fakepatriots lock racis...</td>\n",
       "    </tr>\n",
       "    <tr>\n",
       "      <th>...</th>\n",
       "      <td>...</td>\n",
       "      <td>...</td>\n",
       "      <td>...</td>\n",
       "    </tr>\n",
       "    <tr>\n",
       "      <th>11818</th>\n",
       "      <td>[2]</td>\n",
       "      <td>1. A \"touching\" picture of Chelsea Handler and...</td>\n",
       "      <td>touching picture chelsea handler dad wow mora...</td>\n",
       "    </tr>\n",
       "    <tr>\n",
       "      <th>11819</th>\n",
       "      <td>[1]</td>\n",
       "      <td>1. Only a Demorat cocksucking pussy hating fag...</td>\n",
       "      <td>demorat cocksucking pussy hating faggot would...</td>\n",
       "    </tr>\n",
       "    <tr>\n",
       "      <th>11820</th>\n",
       "      <td>[2]</td>\n",
       "      <td>1. Remember this 3 months ago? The intern that...</td>\n",
       "      <td>remember month ago intern yelled obscenity pr...</td>\n",
       "    </tr>\n",
       "    <tr>\n",
       "      <th>11821</th>\n",
       "      <td>[2]</td>\n",
       "      <td>1. #Sweden's four major dailies aftonbladet.se...</td>\n",
       "      <td>sweden four major daily aftonbladet se dn se ...</td>\n",
       "    </tr>\n",
       "    <tr>\n",
       "      <th>11824</th>\n",
       "      <td>[1]</td>\n",
       "      <td>1. How absolutely unbelievably fascinating? A ...</td>\n",
       "      <td>absolutely unbelievably fascinating pakistani...</td>\n",
       "    </tr>\n",
       "  </tbody>\n",
       "</table>\n",
       "<p>7363 rows × 3 columns</p>\n",
       "</div>"
      ],
      "text/plain": [
       "      hate_speech_idx                                               text  \\\n",
       "0                 [1]  1. i joined gab to remind myself how retarded ...   \n",
       "2                 [2]  1. It makes you an asshole.\\n2. \\tGive it to a...   \n",
       "3                 [2]  1. So they manage to provide a whole lot of da...   \n",
       "5                 [1]                      1. you sound like a faggot \\n   \n",
       "7                 [2]  1. Well, you are the fuckers that lit the matc...   \n",
       "...               ...                                                ...   \n",
       "11818             [2]  1. A \"touching\" picture of Chelsea Handler and...   \n",
       "11819             [1]  1. Only a Demorat cocksucking pussy hating fag...   \n",
       "11820             [2]  1. Remember this 3 months ago? The intern that...   \n",
       "11821             [2]  1. #Sweden's four major dailies aftonbladet.se...   \n",
       "11824             [1]  1. How absolutely unbelievably fascinating? A ...   \n",
       "\n",
       "                                             clean_tweet  \n",
       "0       joined gab remind retarded jew hater typing a...  \n",
       "2       make asshole give soldier defend try burn sho...  \n",
       "3       manage provide whole lot data except critical...  \n",
       "5                                     sound like faggot   \n",
       "7       well fucker lit match fakepatriots lock racis...  \n",
       "...                                                  ...  \n",
       "11818   touching picture chelsea handler dad wow mora...  \n",
       "11819   demorat cocksucking pussy hating faggot would...  \n",
       "11820   remember month ago intern yelled obscenity pr...  \n",
       "11821   sweden four major daily aftonbladet se dn se ...  \n",
       "11824   absolutely unbelievably fascinating pakistani...  \n",
       "\n",
       "[7363 rows x 3 columns]"
      ]
     },
     "execution_count": 12,
     "metadata": {},
     "output_type": "execute_result"
    }
   ],
   "source": [
    "gab['clean_tweet'] = gab.text.apply(clean_tweet)\n",
    "gab"
   ]
  },
  {
   "cell_type": "code",
   "execution_count": 13,
   "metadata": {
    "colab": {
     "base_uri": "https://localhost:8080/"
    },
    "id": "RP2J3-WvlWLq",
    "outputId": "8f007801-8967-40d6-c781-1e642048ede5"
   },
   "outputs": [
    {
     "data": {
      "text/html": [
       "<div>\n",
       "<style scoped>\n",
       "    .dataframe tbody tr th:only-of-type {\n",
       "        vertical-align: middle;\n",
       "    }\n",
       "\n",
       "    .dataframe tbody tr th {\n",
       "        vertical-align: top;\n",
       "    }\n",
       "\n",
       "    .dataframe thead th {\n",
       "        text-align: right;\n",
       "    }\n",
       "</style>\n",
       "<table border=\"1\" class=\"dataframe\">\n",
       "  <thead>\n",
       "    <tr style=\"text-align: right;\">\n",
       "      <th></th>\n",
       "      <th>class</th>\n",
       "      <th>tweet</th>\n",
       "      <th>clean_tweet</th>\n",
       "    </tr>\n",
       "  </thead>\n",
       "  <tbody>\n",
       "    <tr>\n",
       "      <th>0</th>\n",
       "      <td>0</td>\n",
       "      <td>@user #cnn calls #michigan middle school 'buil...</td>\n",
       "      <td>cnn call michigan middle school build wall ch...</td>\n",
       "    </tr>\n",
       "    <tr>\n",
       "      <th>1</th>\n",
       "      <td>0</td>\n",
       "      <td>@user @user lumpy says i am a . prove it lumpy.</td>\n",
       "      <td>lumpy say prove lumpy</td>\n",
       "    </tr>\n",
       "    <tr>\n",
       "      <th>2</th>\n",
       "      <td>0</td>\n",
       "      <td>it's unbelievable that in the 21st century we'...</td>\n",
       "      <td>unbelievable st century need something like ne...</td>\n",
       "    </tr>\n",
       "    <tr>\n",
       "      <th>3</th>\n",
       "      <td>0</td>\n",
       "      <td>@user lets fight against  #love #peace</td>\n",
       "      <td>let fight love peace</td>\n",
       "    </tr>\n",
       "    <tr>\n",
       "      <th>4</th>\n",
       "      <td>0</td>\n",
       "      <td>ð©the white establishment can't have blk fol...</td>\n",
       "      <td>ð©the white establishment blk folx running a...</td>\n",
       "    </tr>\n",
       "    <tr>\n",
       "      <th>...</th>\n",
       "      <td>...</td>\n",
       "      <td>...</td>\n",
       "      <td>...</td>\n",
       "    </tr>\n",
       "    <tr>\n",
       "      <th>2230</th>\n",
       "      <td>0</td>\n",
       "      <td>lady banned from kentucky mall. @user  #jcpenn...</td>\n",
       "      <td>ady banned kentucky mall jcpenny kentucky</td>\n",
       "    </tr>\n",
       "    <tr>\n",
       "      <th>2231</th>\n",
       "      <td>0</td>\n",
       "      <td>@user omfg i'm offended! i'm a  mailbox and i'...</td>\n",
       "      <td>omfg offended mailbox proud mailboxpride libe...</td>\n",
       "    </tr>\n",
       "    <tr>\n",
       "      <th>2232</th>\n",
       "      <td>0</td>\n",
       "      <td>@user @user you don't have the balls to hashta...</td>\n",
       "      <td>ball hashtag say weasel away lumpy tony dipshit</td>\n",
       "    </tr>\n",
       "    <tr>\n",
       "      <th>2233</th>\n",
       "      <td>0</td>\n",
       "      <td>makes you ask yourself, who am i? then am i a...</td>\n",
       "      <td>make ask anybody god oh thank god</td>\n",
       "    </tr>\n",
       "    <tr>\n",
       "      <th>2234</th>\n",
       "      <td>0</td>\n",
       "      <td>@user #sikh #temple vandalised in in #calgary,...</td>\n",
       "      <td>sikh temple vandalised calgary wso condemns act</td>\n",
       "    </tr>\n",
       "  </tbody>\n",
       "</table>\n",
       "<p>2179 rows × 3 columns</p>\n",
       "</div>"
      ],
      "text/plain": [
       "      class                                              tweet  \\\n",
       "0         0  @user #cnn calls #michigan middle school 'buil...   \n",
       "1         0    @user @user lumpy says i am a . prove it lumpy.   \n",
       "2         0  it's unbelievable that in the 21st century we'...   \n",
       "3         0            @user lets fight against  #love #peace    \n",
       "4         0  ð©the white establishment can't have blk fol...   \n",
       "...     ...                                                ...   \n",
       "2230      0  lady banned from kentucky mall. @user  #jcpenn...   \n",
       "2231      0  @user omfg i'm offended! i'm a  mailbox and i'...   \n",
       "2232      0  @user @user you don't have the balls to hashta...   \n",
       "2233      0   makes you ask yourself, who am i? then am i a...   \n",
       "2234      0  @user #sikh #temple vandalised in in #calgary,...   \n",
       "\n",
       "                                            clean_tweet  \n",
       "0      cnn call michigan middle school build wall ch...  \n",
       "1                                lumpy say prove lumpy   \n",
       "2     unbelievable st century need something like ne...  \n",
       "3                                 let fight love peace   \n",
       "4     ð©the white establishment blk folx running a...  \n",
       "...                                                 ...  \n",
       "2230         ady banned kentucky mall jcpenny kentucky   \n",
       "2231   omfg offended mailbox proud mailboxpride libe...  \n",
       "2232   ball hashtag say weasel away lumpy tony dipshit   \n",
       "2233                 make ask anybody god oh thank god   \n",
       "2234   sikh temple vandalised calgary wso condemns act   \n",
       "\n",
       "[2179 rows x 3 columns]"
      ]
     },
     "execution_count": 13,
     "metadata": {},
     "output_type": "execute_result"
    }
   ],
   "source": [
    "df1['label'] = 0\n",
    "df1.rename(columns = {'label': 'class'}, inplace = True)\n",
    "df1"
   ]
  },
  {
   "cell_type": "code",
   "execution_count": 14,
   "metadata": {
    "colab": {
     "base_uri": "https://localhost:8080/"
    },
    "id": "EO_z-MOBYsPn",
    "outputId": "0b494260-6d89-4cc6-c810-1070bd565dc1"
   },
   "outputs": [
    {
     "data": {
      "text/html": [
       "<div>\n",
       "<style scoped>\n",
       "    .dataframe tbody tr th:only-of-type {\n",
       "        vertical-align: middle;\n",
       "    }\n",
       "\n",
       "    .dataframe tbody tr th {\n",
       "        vertical-align: top;\n",
       "    }\n",
       "\n",
       "    .dataframe thead th {\n",
       "        text-align: right;\n",
       "    }\n",
       "</style>\n",
       "<table border=\"1\" class=\"dataframe\">\n",
       "  <thead>\n",
       "    <tr style=\"text-align: right;\">\n",
       "      <th></th>\n",
       "      <th>class</th>\n",
       "      <th>text</th>\n",
       "      <th>clean_tweet</th>\n",
       "    </tr>\n",
       "  </thead>\n",
       "  <tbody>\n",
       "    <tr>\n",
       "      <th>0</th>\n",
       "      <td>0</td>\n",
       "      <td>1. i joined gab to remind myself how retarded ...</td>\n",
       "      <td>joined gab remind retarded jew hater typing a...</td>\n",
       "    </tr>\n",
       "    <tr>\n",
       "      <th>2</th>\n",
       "      <td>0</td>\n",
       "      <td>1. It makes you an asshole.\\n2. \\tGive it to a...</td>\n",
       "      <td>make asshole give soldier defend try burn sho...</td>\n",
       "    </tr>\n",
       "    <tr>\n",
       "      <th>3</th>\n",
       "      <td>0</td>\n",
       "      <td>1. So they manage to provide a whole lot of da...</td>\n",
       "      <td>manage provide whole lot data except critical...</td>\n",
       "    </tr>\n",
       "    <tr>\n",
       "      <th>5</th>\n",
       "      <td>0</td>\n",
       "      <td>1. you sound like a faggot \\n</td>\n",
       "      <td>sound like faggot</td>\n",
       "    </tr>\n",
       "    <tr>\n",
       "      <th>7</th>\n",
       "      <td>0</td>\n",
       "      <td>1. Well, you are the fuckers that lit the matc...</td>\n",
       "      <td>well fucker lit match fakepatriots lock racis...</td>\n",
       "    </tr>\n",
       "    <tr>\n",
       "      <th>...</th>\n",
       "      <td>...</td>\n",
       "      <td>...</td>\n",
       "      <td>...</td>\n",
       "    </tr>\n",
       "    <tr>\n",
       "      <th>11818</th>\n",
       "      <td>0</td>\n",
       "      <td>1. A \"touching\" picture of Chelsea Handler and...</td>\n",
       "      <td>touching picture chelsea handler dad wow mora...</td>\n",
       "    </tr>\n",
       "    <tr>\n",
       "      <th>11819</th>\n",
       "      <td>0</td>\n",
       "      <td>1. Only a Demorat cocksucking pussy hating fag...</td>\n",
       "      <td>demorat cocksucking pussy hating faggot would...</td>\n",
       "    </tr>\n",
       "    <tr>\n",
       "      <th>11820</th>\n",
       "      <td>0</td>\n",
       "      <td>1. Remember this 3 months ago? The intern that...</td>\n",
       "      <td>remember month ago intern yelled obscenity pr...</td>\n",
       "    </tr>\n",
       "    <tr>\n",
       "      <th>11821</th>\n",
       "      <td>0</td>\n",
       "      <td>1. #Sweden's four major dailies aftonbladet.se...</td>\n",
       "      <td>sweden four major daily aftonbladet se dn se ...</td>\n",
       "    </tr>\n",
       "    <tr>\n",
       "      <th>11824</th>\n",
       "      <td>0</td>\n",
       "      <td>1. How absolutely unbelievably fascinating? A ...</td>\n",
       "      <td>absolutely unbelievably fascinating pakistani...</td>\n",
       "    </tr>\n",
       "  </tbody>\n",
       "</table>\n",
       "<p>7363 rows × 3 columns</p>\n",
       "</div>"
      ],
      "text/plain": [
       "       class                                               text  \\\n",
       "0          0  1. i joined gab to remind myself how retarded ...   \n",
       "2          0  1. It makes you an asshole.\\n2. \\tGive it to a...   \n",
       "3          0  1. So they manage to provide a whole lot of da...   \n",
       "5          0                      1. you sound like a faggot \\n   \n",
       "7          0  1. Well, you are the fuckers that lit the matc...   \n",
       "...      ...                                                ...   \n",
       "11818      0  1. A \"touching\" picture of Chelsea Handler and...   \n",
       "11819      0  1. Only a Demorat cocksucking pussy hating fag...   \n",
       "11820      0  1. Remember this 3 months ago? The intern that...   \n",
       "11821      0  1. #Sweden's four major dailies aftonbladet.se...   \n",
       "11824      0  1. How absolutely unbelievably fascinating? A ...   \n",
       "\n",
       "                                             clean_tweet  \n",
       "0       joined gab remind retarded jew hater typing a...  \n",
       "2       make asshole give soldier defend try burn sho...  \n",
       "3       manage provide whole lot data except critical...  \n",
       "5                                     sound like faggot   \n",
       "7       well fucker lit match fakepatriots lock racis...  \n",
       "...                                                  ...  \n",
       "11818   touching picture chelsea handler dad wow mora...  \n",
       "11819   demorat cocksucking pussy hating faggot would...  \n",
       "11820   remember month ago intern yelled obscenity pr...  \n",
       "11821   sweden four major daily aftonbladet se dn se ...  \n",
       "11824   absolutely unbelievably fascinating pakistani...  \n",
       "\n",
       "[7363 rows x 3 columns]"
      ]
     },
     "execution_count": 14,
     "metadata": {},
     "output_type": "execute_result"
    }
   ],
   "source": [
    "gab['hate_speech_idx'] = 0\n",
    "gab.rename(columns = {'hate_speech_idx': 'class'}, inplace = True)\n",
    "gab"
   ]
  },
  {
   "cell_type": "code",
   "execution_count": 15,
   "metadata": {
    "colab": {
     "base_uri": "https://localhost:8080/"
    },
    "id": "_b5xdqB_lWLq",
    "outputId": "74eadfe1-dad0-483d-c5f0-0a112ef77ef7"
   },
   "outputs": [
    {
     "data": {
      "text/html": [
       "<div>\n",
       "<style scoped>\n",
       "    .dataframe tbody tr th:only-of-type {\n",
       "        vertical-align: middle;\n",
       "    }\n",
       "\n",
       "    .dataframe tbody tr th {\n",
       "        vertical-align: top;\n",
       "    }\n",
       "\n",
       "    .dataframe thead th {\n",
       "        text-align: right;\n",
       "    }\n",
       "</style>\n",
       "<table border=\"1\" class=\"dataframe\">\n",
       "  <thead>\n",
       "    <tr style=\"text-align: right;\">\n",
       "      <th></th>\n",
       "      <th>Unnamed: 0</th>\n",
       "      <th>count</th>\n",
       "      <th>hate_speech</th>\n",
       "      <th>offensive_language</th>\n",
       "      <th>neither</th>\n",
       "      <th>class</th>\n",
       "      <th>tweet</th>\n",
       "      <th>clean_tweet</th>\n",
       "      <th>text</th>\n",
       "    </tr>\n",
       "  </thead>\n",
       "  <tbody>\n",
       "    <tr>\n",
       "      <th>0</th>\n",
       "      <td>0.0</td>\n",
       "      <td>3.0</td>\n",
       "      <td>0.0</td>\n",
       "      <td>0.0</td>\n",
       "      <td>3.0</td>\n",
       "      <td>2</td>\n",
       "      <td>!!! RT @mayasolovely: As a woman you shouldn't...</td>\n",
       "      <td>woman complain cleaning house man always take...</td>\n",
       "      <td>NaN</td>\n",
       "    </tr>\n",
       "    <tr>\n",
       "      <th>1</th>\n",
       "      <td>1.0</td>\n",
       "      <td>3.0</td>\n",
       "      <td>0.0</td>\n",
       "      <td>3.0</td>\n",
       "      <td>0.0</td>\n",
       "      <td>1</td>\n",
       "      <td>!!!!! RT @mleew17: boy dats cold...tyga dwn ba...</td>\n",
       "      <td>boy dat cold tyga dwn bad cuffin dat hoe st p...</td>\n",
       "      <td>NaN</td>\n",
       "    </tr>\n",
       "    <tr>\n",
       "      <th>2</th>\n",
       "      <td>2.0</td>\n",
       "      <td>3.0</td>\n",
       "      <td>0.0</td>\n",
       "      <td>3.0</td>\n",
       "      <td>0.0</td>\n",
       "      <td>1</td>\n",
       "      <td>!!!!!!! RT @UrKindOfBrand Dawg!!!! RT @80sbaby...</td>\n",
       "      <td>dawg ever fuck bitch start cry confused shit</td>\n",
       "      <td>NaN</td>\n",
       "    </tr>\n",
       "    <tr>\n",
       "      <th>3</th>\n",
       "      <td>3.0</td>\n",
       "      <td>3.0</td>\n",
       "      <td>0.0</td>\n",
       "      <td>2.0</td>\n",
       "      <td>1.0</td>\n",
       "      <td>1</td>\n",
       "      <td>!!!!!!!!! RT @C_G_Anderson: @viva_based she lo...</td>\n",
       "      <td>look like tranny</td>\n",
       "      <td>NaN</td>\n",
       "    </tr>\n",
       "    <tr>\n",
       "      <th>4</th>\n",
       "      <td>4.0</td>\n",
       "      <td>6.0</td>\n",
       "      <td>0.0</td>\n",
       "      <td>6.0</td>\n",
       "      <td>0.0</td>\n",
       "      <td>1</td>\n",
       "      <td>!!!!!!!!!!!!! RT @ShenikaRoberts: The shit you...</td>\n",
       "      <td>shit hear might true might faker bitch told ya</td>\n",
       "      <td>NaN</td>\n",
       "    </tr>\n",
       "    <tr>\n",
       "      <th>...</th>\n",
       "      <td>...</td>\n",
       "      <td>...</td>\n",
       "      <td>...</td>\n",
       "      <td>...</td>\n",
       "      <td>...</td>\n",
       "      <td>...</td>\n",
       "      <td>...</td>\n",
       "      <td>...</td>\n",
       "      <td>...</td>\n",
       "    </tr>\n",
       "    <tr>\n",
       "      <th>34320</th>\n",
       "      <td>NaN</td>\n",
       "      <td>NaN</td>\n",
       "      <td>NaN</td>\n",
       "      <td>NaN</td>\n",
       "      <td>NaN</td>\n",
       "      <td>0</td>\n",
       "      <td>NaN</td>\n",
       "      <td>touching picture chelsea handler dad wow mora...</td>\n",
       "      <td>1. A \"touching\" picture of Chelsea Handler and...</td>\n",
       "    </tr>\n",
       "    <tr>\n",
       "      <th>34321</th>\n",
       "      <td>NaN</td>\n",
       "      <td>NaN</td>\n",
       "      <td>NaN</td>\n",
       "      <td>NaN</td>\n",
       "      <td>NaN</td>\n",
       "      <td>0</td>\n",
       "      <td>NaN</td>\n",
       "      <td>demorat cocksucking pussy hating faggot would...</td>\n",
       "      <td>1. Only a Demorat cocksucking pussy hating fag...</td>\n",
       "    </tr>\n",
       "    <tr>\n",
       "      <th>34322</th>\n",
       "      <td>NaN</td>\n",
       "      <td>NaN</td>\n",
       "      <td>NaN</td>\n",
       "      <td>NaN</td>\n",
       "      <td>NaN</td>\n",
       "      <td>0</td>\n",
       "      <td>NaN</td>\n",
       "      <td>remember month ago intern yelled obscenity pr...</td>\n",
       "      <td>1. Remember this 3 months ago? The intern that...</td>\n",
       "    </tr>\n",
       "    <tr>\n",
       "      <th>34323</th>\n",
       "      <td>NaN</td>\n",
       "      <td>NaN</td>\n",
       "      <td>NaN</td>\n",
       "      <td>NaN</td>\n",
       "      <td>NaN</td>\n",
       "      <td>0</td>\n",
       "      <td>NaN</td>\n",
       "      <td>sweden four major daily aftonbladet se dn se ...</td>\n",
       "      <td>1. #Sweden's four major dailies aftonbladet.se...</td>\n",
       "    </tr>\n",
       "    <tr>\n",
       "      <th>34324</th>\n",
       "      <td>NaN</td>\n",
       "      <td>NaN</td>\n",
       "      <td>NaN</td>\n",
       "      <td>NaN</td>\n",
       "      <td>NaN</td>\n",
       "      <td>0</td>\n",
       "      <td>NaN</td>\n",
       "      <td>absolutely unbelievably fascinating pakistani...</td>\n",
       "      <td>1. How absolutely unbelievably fascinating? A ...</td>\n",
       "    </tr>\n",
       "  </tbody>\n",
       "</table>\n",
       "<p>34325 rows × 9 columns</p>\n",
       "</div>"
      ],
      "text/plain": [
       "       Unnamed: 0  count  hate_speech  offensive_language  neither  class  \\\n",
       "0             0.0    3.0          0.0                 0.0      3.0      2   \n",
       "1             1.0    3.0          0.0                 3.0      0.0      1   \n",
       "2             2.0    3.0          0.0                 3.0      0.0      1   \n",
       "3             3.0    3.0          0.0                 2.0      1.0      1   \n",
       "4             4.0    6.0          0.0                 6.0      0.0      1   \n",
       "...           ...    ...          ...                 ...      ...    ...   \n",
       "34320         NaN    NaN          NaN                 NaN      NaN      0   \n",
       "34321         NaN    NaN          NaN                 NaN      NaN      0   \n",
       "34322         NaN    NaN          NaN                 NaN      NaN      0   \n",
       "34323         NaN    NaN          NaN                 NaN      NaN      0   \n",
       "34324         NaN    NaN          NaN                 NaN      NaN      0   \n",
       "\n",
       "                                                   tweet  \\\n",
       "0      !!! RT @mayasolovely: As a woman you shouldn't...   \n",
       "1      !!!!! RT @mleew17: boy dats cold...tyga dwn ba...   \n",
       "2      !!!!!!! RT @UrKindOfBrand Dawg!!!! RT @80sbaby...   \n",
       "3      !!!!!!!!! RT @C_G_Anderson: @viva_based she lo...   \n",
       "4      !!!!!!!!!!!!! RT @ShenikaRoberts: The shit you...   \n",
       "...                                                  ...   \n",
       "34320                                                NaN   \n",
       "34321                                                NaN   \n",
       "34322                                                NaN   \n",
       "34323                                                NaN   \n",
       "34324                                                NaN   \n",
       "\n",
       "                                             clean_tweet  \\\n",
       "0       woman complain cleaning house man always take...   \n",
       "1       boy dat cold tyga dwn bad cuffin dat hoe st p...   \n",
       "2           dawg ever fuck bitch start cry confused shit   \n",
       "3                                       look like tranny   \n",
       "4        shit hear might true might faker bitch told ya    \n",
       "...                                                  ...   \n",
       "34320   touching picture chelsea handler dad wow mora...   \n",
       "34321   demorat cocksucking pussy hating faggot would...   \n",
       "34322   remember month ago intern yelled obscenity pr...   \n",
       "34323   sweden four major daily aftonbladet se dn se ...   \n",
       "34324   absolutely unbelievably fascinating pakistani...   \n",
       "\n",
       "                                                    text  \n",
       "0                                                    NaN  \n",
       "1                                                    NaN  \n",
       "2                                                    NaN  \n",
       "3                                                    NaN  \n",
       "4                                                    NaN  \n",
       "...                                                  ...  \n",
       "34320  1. A \"touching\" picture of Chelsea Handler and...  \n",
       "34321  1. Only a Demorat cocksucking pussy hating fag...  \n",
       "34322  1. Remember this 3 months ago? The intern that...  \n",
       "34323  1. #Sweden's four major dailies aftonbladet.se...  \n",
       "34324  1. How absolutely unbelievably fascinating? A ...  \n",
       "\n",
       "[34325 rows x 9 columns]"
      ]
     },
     "execution_count": 15,
     "metadata": {},
     "output_type": "execute_result"
    }
   ],
   "source": [
    "bigdata = pd.concat([data, df1,gab], ignore_index=True, sort=False)\n",
    "bigdata"
   ]
  },
  {
   "cell_type": "code",
   "execution_count": 27,
   "metadata": {
    "colab": {
     "base_uri": "https://localhost:8080/"
    },
    "id": "abUIrjOSZA_C",
    "outputId": "22b51b1f-b5a3-49df-9e6f-f9d64f9a1e3d"
   },
   "outputs": [
    {
     "name": "stdout",
     "output_type": "stream",
     "text": [
      "hate speech:\n",
      "    Total: 34325\n",
      "    hate: 10972 (31.97% of total)\n",
      "\n",
      "offensive speech:\n",
      "    Total: 34325\n",
      "    Offensive: 19190 (55.91% of total)\n",
      "\n",
      "neither:\n",
      "    Total: 34325\n",
      "    Neither: 4163 (12.13% of total)\n",
      "\n"
     ]
    }
   ],
   "source": [
    "hate, offensive, neither = np.bincount(bigdata['class'])\n",
    "total = hate + offensive + neither\n",
    "print(f'hate speech:\\n    Total: {total}\\n    hate: {hate} ({(100 * hate / total):.2f}% of total)\\n')\n",
    "print(f'offensive speech:\\n    Total: {total}\\n    Offensive: {offensive} ({(100 * offensive / total):.2f}% of total)\\n')\n",
    "print(f'neither:\\n    Total: {total}\\n    Neither: {neither} ({(100 * neither / total):.2f}% of total)\\n')"
   ]
  },
  {
   "cell_type": "markdown",
   "metadata": {
    "id": "Km1XPOLFlWMD"
   },
   "source": [
    "## Test traditional models"
   ]
  },
  {
   "cell_type": "code",
   "execution_count": 16,
   "metadata": {
    "id": "ppXP6-C3lWMF"
   },
   "outputs": [],
   "source": [
    "df = bigdata['clean_tweet']\n",
    "target = bigdata['class']"
   ]
  },
  {
   "cell_type": "code",
   "execution_count": 17,
   "metadata": {
    "id": "bjmo6bPMlWMF"
   },
   "outputs": [],
   "source": [
    "# Tokenizing\n",
    "# function to tokenize \n",
    "\n",
    "def unfiltered_tokens(text):\n",
    "    dirty_tokens = nltk.word_tokenize(text)\n",
    "    return dirty_tokens"
   ]
  },
  {
   "cell_type": "code",
   "execution_count": 18,
   "metadata": {
    "id": "EqYH0ZMdlWMG"
   },
   "outputs": [],
   "source": [
    "# applying this function to the `clean_tweets` column\n",
    "\n",
    "processed_data = list(map(unfiltered_tokens, df))"
   ]
  },
  {
   "cell_type": "code",
   "execution_count": 19,
   "metadata": {
    "id": "R-2vqoGPlWMH"
   },
   "outputs": [],
   "source": [
    "# morphing `processed_data` into a readable list\n",
    "\n",
    "flat_unfiltered = [item for sublist in processed_data for item in sublist]"
   ]
  },
  {
   "cell_type": "code",
   "execution_count": 20,
   "metadata": {
    "id": "T0xJBv30lWMI"
   },
   "outputs": [
    {
     "data": {
      "text/plain": [
       "[('bitch', 11805),\n",
       " ('like', 4381),\n",
       " ('hoe', 4356),\n",
       " ('nigger', 3367),\n",
       " ('get', 2514),\n",
       " ('pussy', 2361),\n",
       " ('faggot', 2322),\n",
       " ('u', 2110),\n",
       " ('fuck', 2080),\n",
       " ('nigga', 2025),\n",
       " ('shit', 1987),\n",
       " ('got', 1958),\n",
       " ('as', 1914),\n",
       " ('cunt', 1819),\n",
       " ('white', 1733),\n",
       " ('one', 1623),\n",
       " ('’', 1469),\n",
       " ('retarded', 1461),\n",
       " ('people', 1440),\n",
       " ('know', 1413)]"
      ]
     },
     "execution_count": 20,
     "metadata": {},
     "output_type": "execute_result"
    }
   ],
   "source": [
    "# getting frequency distribution\n",
    "corpus_freqdist = FreqDist(flat_unfiltered)\n",
    "\n",
    "# top 20 words in the corpus\n",
    "corpus_freqdist.most_common(20)"
   ]
  },
  {
   "cell_type": "code",
   "execution_count": 21,
   "metadata": {
    "id": "NfZYAtbFlWMJ"
   },
   "outputs": [
    {
     "data": {
      "text/plain": [
       "31612"
      ]
     },
     "execution_count": 21,
     "metadata": {},
     "output_type": "execute_result"
    }
   ],
   "source": [
    "total_vocab = set()\n",
    "for comment in processed_data:\n",
    "    total_vocab.update(comment)\n",
    "len(total_vocab)\n",
    "\n",
    "# Our corpus has a vocabulary of 17963. \n",
    "# This would also be the number of columns in the sparse matrix after we vectorize the data later."
   ]
  },
  {
   "cell_type": "code",
   "execution_count": 22,
   "metadata": {
    "id": "mZdU9OVzlWMO"
   },
   "outputs": [],
   "source": [
    "# Lemmatization: it reduces each word into a linguistically valid lemma, or root word. \n",
    "# It does this through linguistic mappings, using the WordNet lexical database.\n",
    "\n",
    "# creating a list with all lemmatized outputs\n",
    "lemmatizer = WordNetLemmatizer() \n",
    "lemmatized_output = []\n",
    "\n",
    "for listy in processed_data:\n",
    "    lemmed = ' '.join([lemmatizer.lemmatize(w) for w in listy])\n",
    "    lemmatized_output.append(lemmed)"
   ]
  },
  {
   "cell_type": "code",
   "execution_count": 23,
   "metadata": {
    "id": "UZVa_Lu2lWMP"
   },
   "outputs": [],
   "source": [
    "X_lem = lemmatized_output\n",
    "y_lem = target"
   ]
  },
  {
   "cell_type": "code",
   "execution_count": 24,
   "metadata": {
    "id": "o0x3mEFUlWMQ"
   },
   "outputs": [],
   "source": [
    "X_train, X_test, y_train, y_test = train_test_split(X_lem, y_lem, test_size=0.2, random_state= 20)\n",
    "\n",
    "# using tf_idf vectorizor\n",
    "tfidf = TfidfVectorizer()"
   ]
  },
  {
   "cell_type": "code",
   "execution_count": 25,
   "metadata": {
    "id": "PF0dw-8GlWMQ"
   },
   "outputs": [],
   "source": [
    "# sparse matrix format with 15671 stored elements\n",
    "tfidf_data_train = tfidf.fit_transform(X_train)\n",
    "tfidf_data_test = tfidf.transform(X_test)"
   ]
  },
  {
   "cell_type": "code",
   "execution_count": 26,
   "metadata": {
    "id": "eIUzmytglWMS"
   },
   "outputs": [
    {
     "name": "stdout",
     "output_type": "stream",
     "text": [
      "Average Number of Non-Zero Elements in Vectorized Articles: 9.959978150036417\n",
      "Percentage of columns containing ZERO: 0.9996376344993801\n"
     ]
    }
   ],
   "source": [
    "# taking a quick look of the non zero elements\n",
    "non_zero_cols = tfidf_data_train.nnz / float(tfidf_data_train.shape[0])\n",
    "print(\"Average Number of Non-Zero Elements in Vectorized Articles: {}\".format(non_zero_cols))\n",
    "\n",
    "percent_sparse = 1 - (non_zero_cols / float(tfidf_data_train.shape[1]))\n",
    "print('Percentage of columns containing ZERO: {}'.format(percent_sparse))\n",
    "\n",
    "# 99.9% of the columns contain a zero, meaning that's a very sparse matrix"
   ]
  },
  {
   "cell_type": "code",
   "execution_count": 27,
   "metadata": {
    "id": "R3hBcwZXlWMU"
   },
   "outputs": [],
   "source": [
    "# creating single df for training set\n",
    "X_train_df = pd.DataFrame(data=tfidf_data_train, index=None, columns=['clean_tweet']) \n",
    "y_train_df = pd.DataFrame(data=y_train, index=None, columns=['class']) \n",
    "# joining them\n",
    "training = pd.concat([X_train_df, y_train_df], axis=1)"
   ]
  },
  {
   "cell_type": "code",
   "execution_count": 29,
   "metadata": {
    "id": "0TtamXx8lWMW"
   },
   "outputs": [],
   "source": [
    "# separate minority and majority classes\n",
    "hate = training[training['class']==0]\n",
    "offensive = training[training['class']==1]\n",
    "neither = training[training['class']==2]\n"
   ]
  },
  {
   "cell_type": "code",
   "execution_count": 30,
   "metadata": {
    "id": "rk6aKuLwlWMY"
   },
   "outputs": [
    {
     "name": "stdout",
     "output_type": "stream",
     "text": [
      "(8810, 2)\n",
      "(15306, 2)\n",
      "(3344, 2)\n"
     ]
    }
   ],
   "source": [
    "print(hate.shape)\n",
    "print(offensive.shape)\n",
    "print(neither.shape)"
   ]
  },
  {
   "cell_type": "markdown",
   "metadata": {
    "id": "ZKMbJT5mlWMY"
   },
   "source": [
    "We can see that this data has a huge class imbalance. After running a baseline, we can try oversampling the minority class (hate speech) with SMOTE and undersampling the majority class with Tomek Links."
   ]
  },
  {
   "cell_type": "markdown",
   "metadata": {
    "id": "rx39qO8ulWMZ"
   },
   "source": [
    "### Baseline Random Forest"
   ]
  },
  {
   "cell_type": "code",
   "execution_count": 46,
   "metadata": {
    "id": "gvF5pIw4lWMa"
   },
   "outputs": [],
   "source": [
    "rf_baseline = RandomForestClassifier(n_estimators=100, class_weight='balanced', random_state=0)\n",
    "# adding class_weight='balanced' increased accuracy & precision but decreased F1"
   ]
  },
  {
   "cell_type": "code",
   "execution_count": 47,
   "metadata": {
    "id": "Uh182VFilWMa"
   },
   "outputs": [
    {
     "name": "stdout",
     "output_type": "stream",
     "text": [
      "              precision    recall  f1-score   support\n",
      "\n",
      "           0       0.86      0.87      0.87      2162\n",
      "           1       0.93      0.91      0.92      3884\n",
      "           2       0.76      0.80      0.78       819\n",
      "\n",
      "    accuracy                           0.89      6865\n",
      "   macro avg       0.85      0.86      0.86      6865\n",
      "weighted avg       0.89      0.89      0.89      6865\n",
      "\n"
     ]
    }
   ],
   "source": [
    "rf_baseline.fit(tfidf_data_train, y_train)\n",
    "rf_test_preds = rf_baseline.predict(tfidf_data_test)\n",
    "\n",
    "rf_baseline_report = classification_report(y_test, rf_test_preds)\n",
    "print(rf_baseline_report)"
   ]
  },
  {
   "cell_type": "code",
   "execution_count": 48,
   "metadata": {
    "id": "y1J6Y4OwlWMb"
   },
   "outputs": [
    {
     "data": {
      "image/png": "[encoded data removed]",
      "text/plain": [
       "<Figure size 360x360 with 1 Axes>"
      ]
     },
     "metadata": {
      "needs_background": "light"
     },
     "output_type": "display_data"
    }
   ],
   "source": [
    "import seaborn\n",
    "conf_matrix = confusion_matrix(y_test, rf_test_preds)\n",
    "matrix_proportions = np.zeros((3,3))\n",
    "for i in range(0,3):\n",
    "    matrix_proportions[i,:] = conf_matrix[i,:]/float(conf_matrix[i,:].sum())\n",
    "names=['Hate','Offensive','Neither']\n",
    "confusion_df = pd.DataFrame(matrix_proportions, index=names,columns=names)\n",
    "plt.figure(figsize=(5,5))\n",
    "seaborn.heatmap(confusion_df,annot=True,annot_kws={\"size\": 12},cmap='gist_gray_r',cbar=False, square=True,fmt='.2f')\n",
    "plt.ylabel(r'True categories',fontsize=14)\n",
    "plt.xlabel(r'Predicted categories',fontsize=14)\n",
    "plt.tick_params(labelsize=12)"
   ]
  },
  {
   "cell_type": "code",
   "execution_count": 79,
   "metadata": {},
   "outputs": [],
   "source": [
    "# function to print all evaluation metrics\n",
    "def evaluation(precision, recall, f1_score):\n",
    "    \"\"\"prints out evaluation metrics for a model\"\"\"\n",
    "    print('Testing Set Evaluation Metrics:')\n",
    "    print('Precision: {:.3}'.format(precision))\n",
    "    print('Recall: {:.3}'.format(recall))\n",
    "    print('F1 Score: {:.3}'.format(f1_score))"
   ]
  },
  {
   "cell_type": "code",
   "execution_count": 80,
   "metadata": {},
   "outputs": [
    {
     "name": "stdout",
     "output_type": "stream",
     "text": [
      "Testing Set Evaluation Metrics:\n",
      "Precision: 0.887\n",
      "Recall: 0.885\n",
      "F1 Score: 0.886\n"
     ]
    }
   ],
   "source": [
    "rf_precision = precision_score(y_test, rf_test_preds,average='weighted')\n",
    "rf_recall = recall_score(y_test, rf_test_preds,average='weighted')\n",
    "rf_f1_score = f1_score(y_test, rf_test_preds,average='weighted')\n",
    "\n",
    "\n",
    "# printing scores\n",
    "evaluation(rf_precision, rf_recall, rf_f1_score)"
   ]
  },
  {
   "cell_type": "code",
   "execution_count": 135,
   "metadata": {},
   "outputs": [],
   "source": [
    "# creating dictionary to store all metrics\n",
    "metric_dict = {}\n",
    "# adding scores to metric_dict\n",
    "metric_dict['Baseline Random Forest'] = {'Precision': rf_precision, 'Recall': rf_recall, 'F1_score': rf_f1_score}"
   ]
  },
  {
   "cell_type": "markdown",
   "metadata": {
    "id": "-CHBg6eylWMc"
   },
   "source": [
    "### Baseline Logistic Regression"
   ]
  },
  {
   "cell_type": "code",
   "execution_count": 31,
   "metadata": {
    "id": "w7_yid3nlWMc"
   },
   "outputs": [],
   "source": [
    "logreg_baseline = LogisticRegression(penalty='l2', class_weight='balanced', random_state=20)"
   ]
  },
  {
   "cell_type": "code",
   "execution_count": 32,
   "metadata": {
    "id": "0NzglxuqlWMd"
   },
   "outputs": [
    {
     "name": "stdout",
     "output_type": "stream",
     "text": [
      "              precision    recall  f1-score   support\n",
      "\n",
      "           0       0.85      0.90      0.87      2162\n",
      "           1       0.96      0.87      0.91      3884\n",
      "           2       0.71      0.91      0.80       819\n",
      "\n",
      "    accuracy                           0.88      6865\n",
      "   macro avg       0.84      0.89      0.86      6865\n",
      "weighted avg       0.89      0.88      0.89      6865\n",
      "\n"
     ]
    }
   ],
   "source": [
    "logreg_baseline.fit(tfidf_data_train, y_train)\n",
    "logreg_test_preds = logreg_baseline.predict(tfidf_data_test)\n",
    "\n",
    "logreg_baseline_report = classification_report(y_test, logreg_test_preds)\n",
    "print(logreg_baseline_report)"
   ]
  },
  {
   "cell_type": "code",
   "execution_count": 33,
   "metadata": {
    "id": "VjDct_0BlWMe"
   },
   "outputs": [
    {
     "data": {
      "image/png": "[encoded data removed]",
      "text/plain": [
       "<Figure size 360x360 with 1 Axes>"
      ]
     },
     "metadata": {
      "needs_background": "light"
     },
     "output_type": "display_data"
    }
   ],
   "source": [
    "conf_matrix = confusion_matrix(y_test, logreg_test_preds)\n",
    "matrix_proportions = np.zeros((3,3))\n",
    "for i in range(0,3):\n",
    "    matrix_proportions[i,:] = conf_matrix[i,:]/float(conf_matrix[i,:].sum())\n",
    "names=['Hate','Offensive','Neither']\n",
    "confusion_df = pd.DataFrame(matrix_proportions, index=names,columns=names)\n",
    "plt.figure(figsize=(5,5))\n",
    "sns.heatmap(confusion_df,annot=True,annot_kws={\"size\": 12},cmap='gist_gray_r',cbar=False, square=True,fmt='.2f')\n",
    "plt.ylabel(r'True categories',fontsize=14)\n",
    "plt.xlabel(r'Predicted categories',fontsize=14)\n",
    "plt.tick_params(labelsize=12)"
   ]
  },
  {
   "cell_type": "code",
   "execution_count": 83,
   "metadata": {},
   "outputs": [
    {
     "name": "stdout",
     "output_type": "stream",
     "text": [
      "Testing Set Evaluation Metrics:\n",
      "Precision: 0.893\n",
      "Recall: 0.883\n",
      "F1 Score: 0.885\n"
     ]
    }
   ],
   "source": [
    "log_reg_precision = precision_score(y_test, logreg_test_preds,average='weighted')\n",
    "log_reg_recall = recall_score(y_test, logreg_test_preds,average='weighted')\n",
    "log_reg_f1_score = f1_score(y_test, logreg_test_preds,average='weighted')\n",
    "\n",
    "\n",
    "# printing scores\n",
    "evaluation(log_reg_precision, log_reg_recall, log_reg_f1_score)"
   ]
  },
  {
   "cell_type": "code",
   "execution_count": 136,
   "metadata": {},
   "outputs": [],
   "source": [
    "# adding scores to metric_dict\n",
    "\n",
    "metric_dict['Baseline Logistic Regression'] = {'Precision': log_reg_precision, 'Recall': log_reg_recall, 'F1_score': log_reg_f1_score}"
   ]
  },
  {
   "cell_type": "markdown",
   "metadata": {
    "id": "K6tj98AllWMe"
   },
   "source": [
    "### Baseline with SMOTE"
   ]
  },
  {
   "cell_type": "code",
   "execution_count": 34,
   "metadata": {
    "id": "M_z4THQulWMf"
   },
   "outputs": [],
   "source": [
    "sm = SMOTE(random_state=35)\n",
    "smote_X_train, smote_y_train = sm.fit_sample(tfidf_data_train, y_train)"
   ]
  },
  {
   "cell_type": "code",
   "execution_count": 35,
   "metadata": {
    "id": "nBAVqc7YlWMg"
   },
   "outputs": [
    {
     "name": "stdout",
     "output_type": "stream",
     "text": [
      "              precision    recall  f1-score   support\n",
      "\n",
      "           0       0.85      0.88      0.87      2162\n",
      "           1       0.95      0.88      0.91      3884\n",
      "           2       0.71      0.90      0.80       819\n",
      "\n",
      "    accuracy                           0.88      6865\n",
      "   macro avg       0.84      0.89      0.86      6865\n",
      "weighted avg       0.89      0.88      0.88      6865\n",
      "\n"
     ]
    }
   ],
   "source": [
    "smote_logreg = LogisticRegression(penalty='l2', random_state=35)\n",
    "\n",
    "smote_logreg.fit(smote_X_train, smote_y_train)\n",
    "smote_logreg_test_preds = smote_logreg.predict(tfidf_data_test)\n",
    "\n",
    "smote_logreg_report = classification_report(y_test, smote_logreg_test_preds)\n",
    "print(smote_logreg_report)"
   ]
  },
  {
   "cell_type": "code",
   "execution_count": 36,
   "metadata": {
    "id": "HWqtSOXOlWMh"
   },
   "outputs": [
    {
     "data": {
      "image/png": "[encoded data removed]",
      "text/plain": [
       "<Figure size 360x360 with 1 Axes>"
      ]
     },
     "metadata": {
      "needs_background": "light"
     },
     "output_type": "display_data"
    }
   ],
   "source": [
    "conf_matrix = confusion_matrix(y_test, smote_logreg_test_preds)\n",
    "matrix_proportions = np.zeros((3,3))\n",
    "for i in range(0,3):\n",
    "    matrix_proportions[i,:] = conf_matrix[i,:]/float(conf_matrix[i,:].sum())\n",
    "names=['Hate','Offensive','Neither']\n",
    "confusion_df = pd.DataFrame(matrix_proportions, index=names,columns=names)\n",
    "plt.figure(figsize=(5,5))\n",
    "sns.heatmap(confusion_df,annot=True,annot_kws={\"size\": 12},cmap='gist_gray_r',cbar=False, square=True,fmt='.2f')\n",
    "plt.ylabel(r'True categories',fontsize=14)\n",
    "plt.xlabel(r'Predicted categories',fontsize=14)\n",
    "plt.tick_params(labelsize=12)"
   ]
  },
  {
   "cell_type": "code",
   "execution_count": 110,
   "metadata": {},
   "outputs": [
    {
     "name": "stdout",
     "output_type": "stream",
     "text": [
      "Testing Set Evaluation Metrics:\n",
      "Precision: 0.891\n",
      "Recall: 0.882\n",
      "F1 Score: 0.884\n"
     ]
    }
   ],
   "source": [
    "smote_logreg_precision = precision_score(y_test, smote_logreg_test_preds,average='weighted')\n",
    "smote_logreg_recall = recall_score(y_test, smote_logreg_test_preds,average='weighted')\n",
    "smote_logreg_f1_score = f1_score(y_test, smote_logreg_test_preds,average='weighted')\n",
    "\n",
    "\n",
    "# printing scores\n",
    "evaluation(smote_logreg_precision, smote_logreg_recall, smote_logreg_f1_score)"
   ]
  },
  {
   "cell_type": "code",
   "execution_count": 137,
   "metadata": {},
   "outputs": [],
   "source": [
    "# adding scores to metric_dict\n",
    "\n",
    "metric_dict['Logistic Regression - SMOTE'] = {'Precision': smote_logreg_precision, 'Recall': smote_logreg_recall, 'F1_score': smote_logreg_f1_score}"
   ]
  },
  {
   "cell_type": "markdown",
   "metadata": {
    "id": "piwoQjN5lWMi"
   },
   "source": [
    "### Baseline with Tomek Links¶"
   ]
  },
  {
   "cell_type": "code",
   "execution_count": 37,
   "metadata": {
    "id": "uq5FgvzglWMi"
   },
   "outputs": [
    {
     "name": "stdout",
     "output_type": "stream",
     "text": [
      "Resampled dataset shape Counter({1: 15033, 0: 8632, 2: 3344})\n"
     ]
    }
   ],
   "source": [
    "# Under-sample the majority class (offensive)\n",
    "\n",
    "from collections import Counter\n",
    "from imblearn.under_sampling import TomekLinks # doctest: +NORMALIZE_WHITESPACE\n",
    "\n",
    "tl = TomekLinks()\n",
    "tomek_X_train, tomek_y_train = tl.fit_resample(tfidf_data_train, y_train)\n",
    "print('Resampled dataset shape %s' % Counter(tomek_y_train))\n",
    "\n",
    "# It removed 230 values from the 'offensive language' class and 144 values from 'neither' class"
   ]
  },
  {
   "cell_type": "code",
   "execution_count": 38,
   "metadata": {
    "id": "JqtefZVDlWMk"
   },
   "outputs": [
    {
     "name": "stdout",
     "output_type": "stream",
     "text": [
      "              precision    recall  f1-score   support\n",
      "\n",
      "           0       0.85      0.90      0.88      2162\n",
      "           1       0.93      0.91      0.92      3884\n",
      "           2       0.81      0.78      0.80       819\n",
      "\n",
      "    accuracy                           0.89      6865\n",
      "   macro avg       0.87      0.86      0.86      6865\n",
      "weighted avg       0.89      0.89      0.89      6865\n",
      "\n"
     ]
    }
   ],
   "source": [
    "tomek_logreg = LogisticRegression(penalty='l2', random_state=55)\n",
    "\n",
    "tomek_logreg.fit(tomek_X_train, tomek_y_train)\n",
    "tomek_logreg_test_preds = tomek_logreg.predict(tfidf_data_test)\n",
    "\n",
    "tomek_logreg_report = classification_report(y_test, tomek_logreg_test_preds)\n",
    "print(tomek_logreg_report)"
   ]
  },
  {
   "cell_type": "code",
   "execution_count": 39,
   "metadata": {
    "id": "dODl3yV-lWMm"
   },
   "outputs": [
    {
     "data": {
      "image/png": "[encoded data removed]",
      "text/plain": [
       "<Figure size 360x360 with 1 Axes>"
      ]
     },
     "metadata": {
      "needs_background": "light"
     },
     "output_type": "display_data"
    }
   ],
   "source": [
    "conf_matrix = confusion_matrix(y_test, tomek_logreg_test_preds)\n",
    "matrix_proportions = np.zeros((3,3))\n",
    "for i in range(0,3):\n",
    "    matrix_proportions[i,:] = conf_matrix[i,:]/float(conf_matrix[i,:].sum())\n",
    "names=['Hate','Offensive','Neither']\n",
    "confusion_df = pd.DataFrame(matrix_proportions, index=names,columns=names)\n",
    "plt.figure(figsize=(5,5))\n",
    "sns.heatmap(confusion_df,annot=True,annot_kws={\"size\": 12},cmap='gist_gray_r',cbar=False, square=True,fmt='.2f')\n",
    "plt.ylabel(r'True categories',fontsize=14)\n",
    "plt.xlabel(r'Predicted categories',fontsize=14)\n",
    "plt.tick_params(labelsize=12)"
   ]
  },
  {
   "cell_type": "code",
   "execution_count": 117,
   "metadata": {},
   "outputs": [
    {
     "name": "stdout",
     "output_type": "stream",
     "text": [
      "Testing Set Evaluation Metrics:\n",
      "Precision: 0.892\n",
      "Recall: 0.892\n",
      "F1 Score: 0.892\n"
     ]
    }
   ],
   "source": [
    "tomek_logreg_precision = precision_score(y_test, tomek_logreg_test_preds,average='weighted')\n",
    "tomek_logreg_recall = recall_score(y_test, tomek_logreg_test_preds,average='weighted')\n",
    "tomek_logreg_f1_score = f1_score(y_test, tomek_logreg_test_preds,average='weighted')\n",
    "\n",
    "\n",
    "# printing scores\n",
    "evaluation(tomek_logreg_precision, tomek_logreg_recall, tomek_logreg_f1_score)"
   ]
  },
  {
   "cell_type": "code",
   "execution_count": 138,
   "metadata": {},
   "outputs": [],
   "source": [
    "# adding scores to metric_dict\n",
    "\n",
    "metric_dict['Logistic Regression - TOMEK'] = {'Precision': tomek_logreg_precision, 'Recall': tomek_logreg_recall, 'F1_score': tomek_logreg_f1_score}"
   ]
  },
  {
   "cell_type": "markdown",
   "metadata": {
    "id": "4Wfi4V4FlWMn"
   },
   "source": [
    "### Grid Search "
   ]
  },
  {
   "cell_type": "code",
   "execution_count": 112,
   "metadata": {
    "id": "r62HLdtYlWMo"
   },
   "outputs": [],
   "source": [
    "# creating the model\n",
    "baseline_model = LogisticRegression(class_weight='balanced', random_state=50)"
   ]
  },
  {
   "cell_type": "code",
   "execution_count": 113,
   "metadata": {
    "id": "bxzuw6JXlWMp"
   },
   "outputs": [],
   "source": [
    "# creating param_dict\n",
    "param_dict={'penalty': ['l1', 'l2'], 'solver': ['liblinear', 'newton-cg', 'sag'], 'C':\n",
    "[100, 10, 1.0, 0.1, 0.01]}"
   ]
  },
  {
   "cell_type": "code",
   "execution_count": 114,
   "metadata": {
    "id": "hzdT6AaFlWMp"
   },
   "outputs": [],
   "source": [
    "# instantiate Grid Search CV with F1 metric\n",
    "from sklearn.metrics import f1_score, make_scorer\n",
    "f1 = make_scorer(f1_score , average='weighted')\n",
    "grid_baseline = GridSearchCV(baseline_model, param_dict, cv=5, scoring= f1, verbose=1)"
   ]
  },
  {
   "cell_type": "code",
   "execution_count": 115,
   "metadata": {
    "id": "2U_zCyUDlWMq"
   },
   "outputs": [
    {
     "name": "stdout",
     "output_type": "stream",
     "text": [
      "Fitting 5 folds for each of 30 candidates, totalling 150 fits\n"
     ]
    },
    {
     "name": "stderr",
     "output_type": "stream",
     "text": [
      "[Parallel(n_jobs=1)]: Using backend SequentialBackend with 1 concurrent workers.\n",
      "[Parallel(n_jobs=1)]: Done 150 out of 150 | elapsed:   53.5s finished\n"
     ]
    },
    {
     "name": "stdout",
     "output_type": "stream",
     "text": [
      "F1 Score: 0.8969690132363489\n",
      "Best Hyperparameters: {'C': 1.0, 'penalty': 'l2', 'solver': 'liblinear'}\n",
      "Model object with best parameters: \n",
      "LogisticRegression(class_weight='balanced', random_state=50, solver='liblinear')\n"
     ]
    }
   ],
   "source": [
    "# fit the grid search to our data\n",
    "grid_baseline.fit(tfidf_data_train, y_train)\n",
    "\n",
    "# generate score with .best_score_ and hyperparemeters with .best_params_\n",
    "print('F1 Score:', grid_baseline.best_score_)\n",
    "print('Best Hyperparameters:', grid_baseline.best_params_)\n",
    "print('Model object with best parameters: ')\n",
    "print(grid_baseline.best_estimator_)\n"
   ]
  },
  {
   "cell_type": "code",
   "execution_count": 116,
   "metadata": {
    "id": "rGPk4tIJlWMr"
   },
   "outputs": [
    {
     "name": "stdout",
     "output_type": "stream",
     "text": [
      "              precision    recall  f1-score   support\n",
      "\n",
      "           0       0.85      0.90      0.87      2162\n",
      "           1       0.95      0.88      0.91      3884\n",
      "           2       0.73      0.88      0.80       819\n",
      "\n",
      "    accuracy                           0.89      6865\n",
      "   macro avg       0.84      0.89      0.86      6865\n",
      "weighted avg       0.89      0.89      0.89      6865\n",
      "\n"
     ]
    }
   ],
   "source": [
    "grid_base_test_preds = grid_baseline.best_estimator_.predict(tfidf_data_test)\n",
    "\n",
    "grid_base_logreg_report = classification_report(y_test, grid_base_test_preds)\n",
    "print(grid_base_logreg_report)"
   ]
  },
  {
   "cell_type": "code",
   "execution_count": 121,
   "metadata": {},
   "outputs": [
    {
     "data": {
      "image/png": "[encoded data removed]",
      "text/plain": [
       "<Figure size 360x360 with 1 Axes>"
      ]
     },
     "metadata": {
      "needs_background": "light"
     },
     "output_type": "display_data"
    }
   ],
   "source": [
    "conf_matrix = confusion_matrix(y_test, grid_base_test_preds)\n",
    "matrix_proportions = np.zeros((3,3))\n",
    "for i in range(0,3):\n",
    "    matrix_proportions[i,:] = conf_matrix[i,:]/float(conf_matrix[i,:].sum())\n",
    "names=['Hate','Offensive','Neither']\n",
    "confusion_df = pd.DataFrame(matrix_proportions, index=names,columns=names)\n",
    "plt.figure(figsize=(5,5))\n",
    "sns.heatmap(confusion_df,annot=True,annot_kws={\"size\": 12},cmap='gist_gray_r',cbar=False, square=True,fmt='.2f')\n",
    "plt.ylabel(r'True categories',fontsize=14)\n",
    "plt.xlabel(r'Predicted categories',fontsize=14)\n",
    "plt.tick_params(labelsize=12)"
   ]
  },
  {
   "cell_type": "code",
   "execution_count": 122,
   "metadata": {},
   "outputs": [
    {
     "name": "stdout",
     "output_type": "stream",
     "text": [
      "Testing Set Evaluation Metrics:\n",
      "Precision: 0.893\n",
      "Recall: 0.885\n",
      "F1 Score: 0.887\n"
     ]
    }
   ],
   "source": [
    "grid_logreg_precision = precision_score(y_test, grid_base_test_preds,average='weighted')\n",
    "grid_logreg_recall = recall_score(y_test, grid_base_test_preds,average='weighted')\n",
    "grid_logreg_f1_score = f1_score(y_test, grid_base_test_preds,average='weighted')\n",
    "\n",
    "\n",
    "# printing scores\n",
    "evaluation(grid_logreg_precision, grid_logreg_recall, grid_logreg_f1_score)"
   ]
  },
  {
   "cell_type": "code",
   "execution_count": 139,
   "metadata": {},
   "outputs": [],
   "source": [
    "# adding scores to metric_dict\n",
    "\n",
    "metric_dict['Logistic Regression - Grid Search'] = {'Precision': grid_logreg_precision, 'Recall': grid_logreg_recall, 'F1_score': grid_logreg_f1_score}"
   ]
  },
  {
   "cell_type": "markdown",
   "metadata": {
    "id": "U3lBIohBlWMs"
   },
   "source": [
    "### Running This Tuned Baseline on SMOTE Data"
   ]
  },
  {
   "cell_type": "code",
   "execution_count": 125,
   "metadata": {
    "id": "fz9ZGe0ZlWMs"
   },
   "outputs": [
    {
     "name": "stdout",
     "output_type": "stream",
     "text": [
      "              precision    recall  f1-score   support\n",
      "\n",
      "           0       0.84      0.88      0.86      2162\n",
      "           1       0.96      0.87      0.91      3884\n",
      "           2       0.70      0.91      0.79       819\n",
      "\n",
      "    accuracy                           0.88      6865\n",
      "   macro avg       0.83      0.89      0.85      6865\n",
      "weighted avg       0.89      0.88      0.88      6865\n",
      "\n"
     ]
    }
   ],
   "source": [
    "# best model according to grid search\n",
    "smote_tuned = LogisticRegression(C=1.0, class_weight='balanced', penalty='l1', random_state=50,\n",
    "                   solver='liblinear')\n",
    "\n",
    "smote_tuned.fit(smote_X_train, smote_y_train)\n",
    "smote_tuned_test_preds = smote_tuned.predict(tfidf_data_test)\n",
    "\n",
    "smote_tuned_logreg_report = classification_report(y_test, smote_tuned_test_preds)\n",
    "print(smote_tuned_logreg_report)"
   ]
  },
  {
   "cell_type": "markdown",
   "metadata": {
    "id": "ZIP5fbKPlWMt"
   },
   "source": [
    "### Running This Tuned Baseline on TOMEK Data"
   ]
  },
  {
   "cell_type": "code",
   "execution_count": 126,
   "metadata": {
    "id": "brEVZblOlWMu"
   },
   "outputs": [
    {
     "name": "stdout",
     "output_type": "stream",
     "text": [
      "              precision    recall  f1-score   support\n",
      "\n",
      "           0       0.84      0.91      0.87      2162\n",
      "           1       0.96      0.88      0.91      3884\n",
      "           2       0.76      0.88      0.81       819\n",
      "\n",
      "    accuracy                           0.89      6865\n",
      "   macro avg       0.85      0.89      0.87      6865\n",
      "weighted avg       0.89      0.89      0.89      6865\n",
      "\n"
     ]
    }
   ],
   "source": [
    "tomek_tuned = LogisticRegression(C=1.0, class_weight='balanced', penalty='l1', random_state=50,\n",
    "                   solver='liblinear')\n",
    "tomek_tuned.fit(tomek_X_train, tomek_y_train)\n",
    "tomek_tuned_test_preds = tomek_tuned.predict(tfidf_data_test)\n",
    "tomek_tuned_logreg_report = classification_report(y_test, tomek_tuned_test_preds)\n",
    "print(tomek_tuned_logreg_report)"
   ]
  },
  {
   "cell_type": "markdown",
   "metadata": {
    "id": "BZVmGYmflWMv"
   },
   "source": [
    "### Baseline Naive Bayes"
   ]
  },
  {
   "cell_type": "code",
   "execution_count": 85,
   "metadata": {
    "id": "c8jE2yWdlWMw"
   },
   "outputs": [
    {
     "name": "stdout",
     "output_type": "stream",
     "text": [
      "              precision    recall  f1-score   support\n",
      "\n",
      "           0       0.80      0.83      0.82      2162\n",
      "           1       0.84      0.90      0.87      3884\n",
      "           2       0.77      0.41      0.54       819\n",
      "\n",
      "    accuracy                           0.82      6865\n",
      "   macro avg       0.80      0.71      0.74      6865\n",
      "weighted avg       0.82      0.82      0.81      6865\n",
      "\n"
     ]
    }
   ],
   "source": [
    "baseline_bayes = MultinomialNB(alpha = .01)\n",
    "\n",
    "baseline_bayes.fit(tfidf_data_train, y_train)\n",
    "bayes_test_preds = baseline_bayes.predict(tfidf_data_test)\n",
    "\n",
    "bayes_baseline_report = classification_report(y_test, bayes_test_preds)\n",
    "print(bayes_baseline_report)"
   ]
  },
  {
   "cell_type": "code",
   "execution_count": 86,
   "metadata": {
    "id": "uj_mz3v0lWM4"
   },
   "outputs": [
    {
     "data": {
      "image/png": "[encoded data removed]",
      "text/plain": [
       "<Figure size 360x360 with 1 Axes>"
      ]
     },
     "metadata": {
      "needs_background": "light"
     },
     "output_type": "display_data"
    }
   ],
   "source": [
    "confusion_matrix = confusion_matrix(y_test, bayes_test_preds)\n",
    "matrix_proportions = np.zeros((3,3))\n",
    "for i in range(0,3):\n",
    "    matrix_proportions[i,:] = confusion_matrix[i,:]/float(confusion_matrix[i,:].sum())\n",
    "names=['Hate','Offensive','Neither']\n",
    "confusion_df = pd.DataFrame(matrix_proportions, index=names,columns=names)\n",
    "plt.figure(figsize=(5,5))\n",
    "sns.heatmap(confusion_df,annot=True,annot_kws={\"size\": 12},cmap='gist_gray_r',cbar=False, square=True,fmt='.2f')\n",
    "plt.ylabel(r'True categories',fontsize=14)\n",
    "plt.xlabel(r'Predicted categories',fontsize=14)\n",
    "plt.tick_params(labelsize=12)"
   ]
  },
  {
   "cell_type": "code",
   "execution_count": 88,
   "metadata": {},
   "outputs": [
    {
     "name": "stdout",
     "output_type": "stream",
     "text": [
      "Testing Set Evaluation Metrics:\n",
      "Precision: 0.817\n",
      "Recall: 0.82\n",
      "F1 Score: 0.812\n"
     ]
    }
   ],
   "source": [
    "bayes_precision = precision_score(y_test, bayes_test_preds, average='weighted')\n",
    "bayes_recall = recall_score(y_test, bayes_test_preds, average='weighted')\n",
    "bayes_f1_score = f1_score(y_test, bayes_test_preds, average='weighted')\n",
    "\n",
    "# printing scores\n",
    "evaluation(bayes_precision, bayes_recall, bayes_f1_score)"
   ]
  },
  {
   "cell_type": "code",
   "execution_count": 140,
   "metadata": {},
   "outputs": [],
   "source": [
    "# adding scores to metric_dict\n",
    "\n",
    "metric_dict['Baseline Naive Bayes'] = {'Precision': bayes_precision, 'Recall': bayes_recall, 'F1_score': bayes_f1_score}"
   ]
  },
  {
   "cell_type": "markdown",
   "metadata": {
    "id": "ifyMMuxNlWM5"
   },
   "source": [
    "### Baseline SVM"
   ]
  },
  {
   "cell_type": "code",
   "execution_count": 40,
   "metadata": {
    "id": "5pCeGMmylWM9"
   },
   "outputs": [
    {
     "name": "stdout",
     "output_type": "stream",
     "text": [
      "              precision    recall  f1-score   support\n",
      "\n",
      "           0       0.85      0.91      0.88      2162\n",
      "           1       0.96      0.88      0.92      3884\n",
      "           2       0.76      0.89      0.82       819\n",
      "\n",
      "    accuracy                           0.89      6865\n",
      "   macro avg       0.85      0.90      0.87      6865\n",
      "weighted avg       0.90      0.89      0.89      6865\n",
      "\n"
     ]
    }
   ],
   "source": [
    "SVM_baseline = svm.SVC(C=1.0, kernel='linear', degree=3, gamma='auto', class_weight='balanced')\n",
    "\n",
    "SVM_baseline.fit(tfidf_data_train, y_train)\n",
    "SVM_test_preds = SVM_baseline.predict(tfidf_data_test)\n",
    "\n",
    "SVM_baseline_report = classification_report(y_test, SVM_test_preds)\n",
    "print(SVM_baseline_report)"
   ]
  },
  {
   "cell_type": "code",
   "execution_count": 41,
   "metadata": {
    "id": "1ZaRGooslWM-"
   },
   "outputs": [
    {
     "data": {
      "image/png": "[encoded data removed]",
      "text/plain": [
       "<Figure size 360x360 with 1 Axes>"
      ]
     },
     "metadata": {
      "needs_background": "light"
     },
     "output_type": "display_data"
    }
   ],
   "source": [
    "conf_matrix = confusion_matrix(y_test, SVM_test_preds)\n",
    "matrix_proportions = np.zeros((3,3))\n",
    "for i in range(0,3):\n",
    "    matrix_proportions[i,:] = conf_matrix[i,:]/float(conf_matrix[i,:].sum())\n",
    "names=['Hate','Offensive','Neither']\n",
    "confusion_df = pd.DataFrame(matrix_proportions, index=names,columns=names)\n",
    "plt.figure(figsize=(5,5))\n",
    "sns.heatmap(confusion_df,annot=True,annot_kws={\"size\": 12},cmap='gist_gray_r',cbar=False, square=True,fmt='.2f')\n",
    "plt.ylabel(r'True categories',fontsize=14)\n",
    "plt.xlabel(r'Predicted categories',fontsize=14)\n",
    "plt.tick_params(labelsize=12)"
   ]
  },
  {
   "cell_type": "code",
   "execution_count": 127,
   "metadata": {},
   "outputs": [
    {
     "name": "stdout",
     "output_type": "stream",
     "text": [
      "Testing Set Evaluation Metrics:\n",
      "Precision: 0.9\n",
      "Recall: 0.893\n",
      "F1 Score: 0.894\n"
     ]
    }
   ],
   "source": [
    "SVM_precision = precision_score(y_test, SVM_test_preds, average='weighted')\n",
    "SVM_recall = recall_score(y_test, SVM_test_preds, average='weighted')\n",
    "SVM_f1_score = f1_score(y_test, SVM_test_preds, average='weighted')\n",
    "\n",
    "\n",
    "# printing scores\n",
    "evaluation(SVM_precision, SVM_recall, SVM_f1_score)"
   ]
  },
  {
   "cell_type": "code",
   "execution_count": 141,
   "metadata": {},
   "outputs": [],
   "source": [
    "# adding scores to metric_dict\n",
    "metric_dict['Baseline SVM'] = {'Precision': SVM_precision, 'Recall': SVM_recall, 'F1_score': SVM_f1_score}"
   ]
  },
  {
   "cell_type": "markdown",
   "metadata": {},
   "source": [
    "### Basiline with SMOTE"
   ]
  },
  {
   "cell_type": "code",
   "execution_count": 42,
   "metadata": {},
   "outputs": [
    {
     "name": "stdout",
     "output_type": "stream",
     "text": [
      "              precision    recall  f1-score   support\n",
      "\n",
      "           0       0.85      0.89      0.87      2162\n",
      "           1       0.95      0.89      0.92      3884\n",
      "           2       0.73      0.89      0.81       819\n",
      "\n",
      "    accuracy                           0.89      6865\n",
      "   macro avg       0.85      0.89      0.87      6865\n",
      "weighted avg       0.90      0.89      0.89      6865\n",
      "\n"
     ]
    }
   ],
   "source": [
    "smote_svm =svm.SVC(C=1.0, kernel='linear', degree=3, gamma='auto', class_weight='balanced')\n",
    "\n",
    "smote_svm.fit(smote_X_train, smote_y_train)\n",
    "smote_svm_test_preds = smote_svm.predict(tfidf_data_test)\n",
    "\n",
    "smote_svm_report = classification_report(y_test, smote_svm_test_preds)\n",
    "print(smote_svm_report)\n"
   ]
  },
  {
   "cell_type": "code",
   "execution_count": 43,
   "metadata": {},
   "outputs": [
    {
     "data": {
      "image/png": "[encoded data removed]",
      "text/plain": [
       "<Figure size 360x360 with 1 Axes>"
      ]
     },
     "metadata": {
      "needs_background": "light"
     },
     "output_type": "display_data"
    }
   ],
   "source": [
    "conf_matrix = confusion_matrix(y_test, smote_svm_test_preds)\n",
    "matrix_proportions = np.zeros((3,3))\n",
    "for i in range(0,3):\n",
    "    matrix_proportions[i,:] = conf_matrix[i,:]/float(conf_matrix[i,:].sum())\n",
    "names=['Hate','Offensive','Neither']\n",
    "confusion_df = pd.DataFrame(matrix_proportions, index=names,columns=names)\n",
    "plt.figure(figsize=(5,5))\n",
    "sns.heatmap(confusion_df,annot=True,annot_kws={\"size\": 12},cmap='gist_gray_r',cbar=False, square=True,fmt='.2f')\n",
    "plt.ylabel(r'True categories',fontsize=14)\n",
    "plt.xlabel(r'Predicted categories',fontsize=14)\n",
    "plt.tick_params(labelsize=12)"
   ]
  },
  {
   "cell_type": "code",
   "execution_count": 128,
   "metadata": {},
   "outputs": [
    {
     "name": "stdout",
     "output_type": "stream",
     "text": [
      "Testing Set Evaluation Metrics:\n",
      "Precision: 0.896\n",
      "Recall: 0.889\n",
      "F1 Score: 0.891\n"
     ]
    }
   ],
   "source": [
    "smote_svm_precision = precision_score(y_test, smote_svm_test_preds, average='weighted')\n",
    "smote_svm_recall = recall_score(y_test, smote_svm_test_preds, average='weighted')\n",
    "smote_svm_f1_score = f1_score(y_test, smote_svm_test_preds, average='weighted')\n",
    "\n",
    "\n",
    "# printing scores\n",
    "evaluation(smote_svm_precision, smote_svm_recall,smote_svm_f1_score)"
   ]
  },
  {
   "cell_type": "code",
   "execution_count": 142,
   "metadata": {},
   "outputs": [],
   "source": [
    "# adding scores to metric_dict\n",
    "metric_dict['SVM - SMOTE'] = {'Precision': smote_svm_precision, 'Recall': smote_svm_recall, 'F1_score': smote_svm_f1_score}"
   ]
  },
  {
   "cell_type": "markdown",
   "metadata": {},
   "source": [
    "### Baseline with Tomek Links¶"
   ]
  },
  {
   "cell_type": "code",
   "execution_count": 44,
   "metadata": {},
   "outputs": [
    {
     "name": "stdout",
     "output_type": "stream",
     "text": [
      "              precision    recall  f1-score   support\n",
      "\n",
      "           0       0.85      0.91      0.88      2162\n",
      "           1       0.96      0.88      0.92      3884\n",
      "           2       0.75      0.89      0.81       819\n",
      "\n",
      "    accuracy                           0.89      6865\n",
      "   macro avg       0.85      0.90      0.87      6865\n",
      "weighted avg       0.90      0.89      0.89      6865\n",
      "\n"
     ]
    }
   ],
   "source": [
    "tomek_svm = svm.SVC(C=1.0, kernel='linear', degree=3, gamma='auto', class_weight='balanced')\n",
    "\n",
    "tomek_svm.fit(tomek_X_train, tomek_y_train)\n",
    "tomek_svm_test_preds = tomek_svm.predict(tfidf_data_test)\n",
    "\n",
    "tomek_svm_report = classification_report(y_test, tomek_svm_test_preds)\n",
    "print(tomek_svm_report)"
   ]
  },
  {
   "cell_type": "code",
   "execution_count": 45,
   "metadata": {},
   "outputs": [
    {
     "data": {
      "image/png": "[encoded data removed]",
      "text/plain": [
       "<Figure size 360x360 with 1 Axes>"
      ]
     },
     "metadata": {
      "needs_background": "light"
     },
     "output_type": "display_data"
    }
   ],
   "source": [
    "conf_matrix = confusion_matrix(y_test, tomek_svm_test_preds)\n",
    "matrix_proportions = np.zeros((3,3))\n",
    "for i in range(0,3):\n",
    "    matrix_proportions[i,:] = conf_matrix[i,:]/float(conf_matrix[i,:].sum())\n",
    "names=['Hate','Offensive','Neither']\n",
    "confusion_df = pd.DataFrame(matrix_proportions, index=names,columns=names)\n",
    "plt.figure(figsize=(5,5))\n",
    "sns.heatmap(confusion_df,annot=True,annot_kws={\"size\": 12},cmap='gist_gray_r',cbar=False, square=True,fmt='.2f')\n",
    "plt.ylabel(r'True categories',fontsize=14)\n",
    "plt.xlabel(r'Predicted categories',fontsize=14)\n",
    "plt.tick_params(labelsize=12)"
   ]
  },
  {
   "cell_type": "code",
   "execution_count": 130,
   "metadata": {},
   "outputs": [
    {
     "name": "stdout",
     "output_type": "stream",
     "text": [
      "Testing Set Evaluation Metrics:\n",
      "Precision: 0.9\n",
      "Recall: 0.892\n",
      "F1 Score: 0.894\n"
     ]
    }
   ],
   "source": [
    "tomek_svm_precision = precision_score(y_test, tomek_svm_test_preds, average='weighted')\n",
    "tomek_svm_recall = recall_score(y_test, tomek_svm_test_preds, average='weighted')\n",
    "tomek_svm_f1_score = f1_score(y_test, tomek_svm_test_preds, average='weighted')\n",
    "\n",
    "\n",
    "# printing scores\n",
    "evaluation(tomek_svm_precision, tomek_svm_recall,tomek_svm_f1_score)"
   ]
  },
  {
   "cell_type": "code",
   "execution_count": 143,
   "metadata": {},
   "outputs": [],
   "source": [
    "# adding scores to metric_dict\n",
    "metric_dict['SVM - TOMEK'] = {'Precision': tomek_svm_precision, 'Recall': tomek_svm_recall, 'F1_score': tomek_svm_f1_score}"
   ]
  },
  {
   "cell_type": "markdown",
   "metadata": {},
   "source": [
    "### Evaluation Metrics for All Baseline Models"
   ]
  },
  {
   "cell_type": "code",
   "execution_count": 144,
   "metadata": {},
   "outputs": [
    {
     "data": {
      "text/html": [
       "<div>\n",
       "<style scoped>\n",
       "    .dataframe tbody tr th:only-of-type {\n",
       "        vertical-align: middle;\n",
       "    }\n",
       "\n",
       "    .dataframe tbody tr th {\n",
       "        vertical-align: top;\n",
       "    }\n",
       "\n",
       "    .dataframe thead th {\n",
       "        text-align: right;\n",
       "    }\n",
       "</style>\n",
       "<table border=\"1\" class=\"dataframe\">\n",
       "  <thead>\n",
       "    <tr style=\"text-align: right;\">\n",
       "      <th></th>\n",
       "      <th>Precision</th>\n",
       "      <th>Recall</th>\n",
       "      <th>F1_score</th>\n",
       "    </tr>\n",
       "  </thead>\n",
       "  <tbody>\n",
       "    <tr>\n",
       "      <th>Baseline Random Forest</th>\n",
       "      <td>0.886601</td>\n",
       "      <td>0.885361</td>\n",
       "      <td>0.885877</td>\n",
       "    </tr>\n",
       "    <tr>\n",
       "      <th>Baseline Logistic Regression</th>\n",
       "      <td>0.893245</td>\n",
       "      <td>0.883321</td>\n",
       "      <td>0.885491</td>\n",
       "    </tr>\n",
       "    <tr>\n",
       "      <th>Logistic Regression - SMOTE</th>\n",
       "      <td>0.890942</td>\n",
       "      <td>0.881865</td>\n",
       "      <td>0.884017</td>\n",
       "    </tr>\n",
       "    <tr>\n",
       "      <th>Logistic Regression - TOMEK</th>\n",
       "      <td>0.892493</td>\n",
       "      <td>0.891770</td>\n",
       "      <td>0.891837</td>\n",
       "    </tr>\n",
       "    <tr>\n",
       "      <th>Logistic Regression - Grid Search</th>\n",
       "      <td>0.892795</td>\n",
       "      <td>0.885361</td>\n",
       "      <td>0.887077</td>\n",
       "    </tr>\n",
       "    <tr>\n",
       "      <th>Baseline Naive Bayes</th>\n",
       "      <td>0.817145</td>\n",
       "      <td>0.820393</td>\n",
       "      <td>0.811553</td>\n",
       "    </tr>\n",
       "    <tr>\n",
       "      <th>Baseline SVM</th>\n",
       "      <td>0.899727</td>\n",
       "      <td>0.892644</td>\n",
       "      <td>0.894191</td>\n",
       "    </tr>\n",
       "    <tr>\n",
       "      <th>SVM - SMOTE</th>\n",
       "      <td>0.896126</td>\n",
       "      <td>0.889002</td>\n",
       "      <td>0.890805</td>\n",
       "    </tr>\n",
       "    <tr>\n",
       "      <th>SVM - TOMEK</th>\n",
       "      <td>0.899830</td>\n",
       "      <td>0.892498</td>\n",
       "      <td>0.894142</td>\n",
       "    </tr>\n",
       "  </tbody>\n",
       "</table>\n",
       "</div>"
      ],
      "text/plain": [
       "                                   Precision    Recall  F1_score\n",
       "Baseline Random Forest              0.886601  0.885361  0.885877\n",
       "Baseline Logistic Regression        0.893245  0.883321  0.885491\n",
       "Logistic Regression - SMOTE         0.890942  0.881865  0.884017\n",
       "Logistic Regression - TOMEK         0.892493  0.891770  0.891837\n",
       "Logistic Regression - Grid Search   0.892795  0.885361  0.887077\n",
       "Baseline Naive Bayes                0.817145  0.820393  0.811553\n",
       "Baseline SVM                        0.899727  0.892644  0.894191\n",
       "SVM - SMOTE                         0.896126  0.889002  0.890805\n",
       "SVM - TOMEK                         0.899830  0.892498  0.894142"
      ]
     },
     "execution_count": 144,
     "metadata": {},
     "output_type": "execute_result"
    }
   ],
   "source": [
    "# printing dict for testing set metrics\n",
    "pd.DataFrame.from_dict(metric_dict, orient='index')"
   ]
  },
  {
   "cell_type": "markdown",
   "metadata": {
    "id": "kcCILVmtlWM_"
   },
   "source": [
    "Overall, the Tuned Baseline SVM model performed the best across weighted recall(0.89) and weighted F1(0.89). "
   ]
  },
  {
   "cell_type": "code",
   "execution_count": 145,
   "metadata": {
    "id": "X2BiK1rplWNA"
   },
   "outputs": [],
   "source": [
    "# Pickling final model for the interactive webapp\n",
    "import pickle\n",
    "pickle_out = open(\"svm_model.pkl\",\"wb\")\n",
    "pickle.dump(SVM_baseline, pickle_out)\n",
    "pickle_out.close()"
   ]
  },
  {
   "cell_type": "code",
   "execution_count": 146,
   "metadata": {
    "id": "fqF6czNblWNA"
   },
   "outputs": [],
   "source": [
    "## pickling X_train for future use\n",
    "pickle_out = open(\"X_train.pkl\",\"wb\")\n",
    "pickle.dump(X_train, pickle_out)\n",
    "pickle_out.close()"
   ]
  },
  {
   "cell_type": "code",
   "execution_count": null,
   "metadata": {
    "id": "ejl5zZoSlKtl"
   },
   "outputs": [],
   "source": []
  }
 ],
 "metadata": {
  "colab": {
   "name": "Copy of hate_speech-2_extra_data_gab12.ipynb",
   "provenance": []
  },
  "kernelspec": {
   "display_name": "Python 3",
   "language": "python",
   "name": "python3"
  },
  "language_info": {
   "codemirror_mode": {
    "name": "ipython",
    "version": 3
   },
   "file_extension": ".py",
   "mimetype": "text/x-python",
   "name": "python",
   "nbconvert_exporter": "python",
   "pygments_lexer": "ipython3",
   "version": "3.8.3"
  },
  "toc": {
   "base_numbering": 1,
   "nav_menu": {},
   "number_sections": true,
   "sideBar": true,
   "skip_h1_title": false,
   "title_cell": "Table of Contents",
   "title_sidebar": "Contents",
   "toc_cell": false,
   "toc_position": {},
   "toc_section_display": true,
   "toc_window_display": false
  }
 },
 "nbformat": 4,
 "nbformat_minor": 1
}
